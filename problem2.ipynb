{
 "cells": [
  {
   "cell_type": "markdown",
   "metadata": {},
   "source": [
    "# Imports"
   ]
  },
  {
   "cell_type": "code",
   "execution_count": 2,
   "metadata": {},
   "outputs": [],
   "source": [
    "import pandas as pd\n",
    "import statsmodels.api as sm\n",
    "import matplotlib.pyplot as plt\n",
    "from ipynb.fs.defs.problem1 import estimate_capm\n"
   ]
  },
  {
   "cell_type": "markdown",
   "metadata": {},
   "source": [
    "## Load in Fama French Portfolio Data"
   ]
  },
  {
   "cell_type": "code",
   "execution_count": 6,
   "metadata": {},
   "outputs": [
    {
     "name": "stdout",
     "output_type": "stream",
     "text": [
      "   Year  Month  Mkt-RF    RF\n",
      "0  1926      7    2.96  0.22\n",
      "1  1926      8    2.64  0.25\n",
      "2  1926      9    0.36  0.23\n",
      "3  1926     10   -3.24  0.32\n",
      "4  1926     11    2.53  0.31\n"
     ]
    }
   ],
   "source": [
    "# Read the file, skipping header text rows and limiting to monthly data\n",
    "ff = pd.read_csv(\"F-F_Research_Data_Factors 3.CSV\", skiprows=3, nrows=1182)\n",
    "\n",
    "# Rename the date column for clarity\n",
    "ff.rename(columns={\"Unnamed: 0\": \"Date\"}, inplace=True)\n",
    "\n",
    "# Convert Date to string to extract Year and Month\n",
    "ff['Date'] = ff['Date'].astype(str)\n",
    "ff['Year'] = ff['Date'].str[:4].astype(int)\n",
    "ff['Month'] = ff['Date'].str[4:].astype(int)\n",
    "\n",
    "# Pull the columns we want\n",
    "ff = ff[['Year', 'Month', 'Mkt-RF', 'RF']]\n",
    "\n",
    "# Show the updated DataFrame\n",
    "print(ff.head())"
   ]
  },
  {
   "cell_type": "markdown",
   "metadata": {},
   "source": [
    "## Load in Strategies Dataset"
   ]
  },
  {
   "cell_type": "code",
   "execution_count": 4,
   "metadata": {},
   "outputs": [
    {
     "name": "stdout",
     "output_type": "stream",
     "text": [
      "   Year  Month      LBHA     LSA        TA        HV        LV        NA  \\\n",
      "0  1990      1  1.498262 -7.4575  1.679061 -7.271919  0.022091 -5.392944   \n",
      "1  1990      2  3.642659  1.0545  0.205289 -0.986167  0.062055 -1.768405   \n",
      "2  1990      3  1.737180  1.7385 -1.572688 -0.018665  0.341639 -0.333926   \n",
      "3  1990      4  0.734520 -3.1920  2.474704 -3.294381  0.253568 -2.578905   \n",
      "4  1990      5  1.298923  7.9990  0.754379  8.038877 -0.113650  1.337511   \n",
      "\n",
      "         LB         HB  \n",
      "0 -1.353457 -22.772632  \n",
      "1 -2.118514   5.151408  \n",
      "2  1.452434   4.480134  \n",
      "3  2.123740 -10.101798  \n",
      "4 -1.555230  26.259080  \n"
     ]
    }
   ],
   "source": [
    "# Read the file\n",
    "ss = pd.read_csv(\"ps1_strategies.csv\")\n",
    "\n",
    "# Convert Date to string to extract Year and Month\n",
    "ss['date'] = ss['date'].astype(str)\n",
    "ss['Year'] = ss['date'].str[:4].astype(int)\n",
    "ss['Month'] = ss['date'].str[4:].astype(int)\n",
    "\n",
    "# Pull the columns we want\n",
    "ss = ss[['Year', 'Month', 'LBHA', 'LSA', 'TA', 'HV', 'LV', 'NA', 'LB', 'HB']]\n",
    "\n",
    "# Show the updated DataFrame\n",
    "print(ss.head())"
   ]
  },
  {
   "cell_type": "markdown",
   "metadata": {},
   "source": [
    "# Part (a)"
   ]
  },
  {
   "cell_type": "code",
   "execution_count": 7,
   "metadata": {},
   "outputs": [
    {
     "name": "stdout",
     "output_type": "stream",
     "text": [
      "CAPM Results for LBHA Strategy\n",
      "Alpha: 0.2729\n",
      "Beta: 0.0067\n",
      "                            OLS Regression Results                            \n",
      "==============================================================================\n",
      "Dep. Variable:                  RP-RF   R-squared:                       0.000\n",
      "Model:                            OLS   Adj. R-squared:                 -0.002\n",
      "Method:                 Least Squares   F-statistic:                   0.08125\n",
      "Date:                Thu, 10 Apr 2025   Prob (F-statistic):              0.776\n",
      "Time:                        00:42:27   Log-Likelihood:                -853.10\n",
      "No. Observations:                 397   AIC:                             1710.\n",
      "Df Residuals:                     395   BIC:                             1718.\n",
      "Df Model:                           1                                         \n",
      "Covariance Type:            nonrobust                                         \n",
      "==============================================================================\n",
      "                 coef    std err          t      P>|t|      [0.025      0.975]\n",
      "------------------------------------------------------------------------------\n",
      "const          0.2729      0.106      2.583      0.010       0.065       0.481\n",
      "Mkt-RF         0.0067      0.023      0.285      0.776      -0.039       0.053\n",
      "==============================================================================\n",
      "Omnibus:                        0.935   Durbin-Watson:                   2.046\n",
      "Prob(Omnibus):                  0.627   Jarque-Bera (JB):                0.910\n",
      "Skew:                          -0.117   Prob(JB):                        0.635\n",
      "Kurtosis:                       2.977   Cond. No.                         4.57\n",
      "==============================================================================\n",
      "\n",
      "Notes:\n",
      "[1] Standard Errors assume that the covariance matrix of the errors is correctly specified.\n"
     ]
    }
   ],
   "source": [
    "results_lbha = estimate_capm(ss, ff, 'LBHA')\n",
    "\n",
    "print(\"CAPM Results for LBHA Strategy\")\n",
    "print(f\"Alpha: {results_lbha['alpha']:.4f}\")\n",
    "print(f\"Beta: {results_lbha['beta']:.4f}\")\n",
    "print(results_lbha['summary'])"
   ]
  },
  {
   "cell_type": "markdown",
   "metadata": {},
   "source": [
    "Since alpha (0.2729) > 0 and p-value (0.01) is small (< 0.05), we can say with some confidence that LBHA has positive risk-adjusted outperformance; so, the LBHA strategy **beats the market**."
   ]
  }
 ],
 "metadata": {
  "kernelspec": {
   "display_name": "Python 3",
   "language": "python",
   "name": "python3"
  },
  "language_info": {
   "codemirror_mode": {
    "name": "ipython",
    "version": 3
   },
   "file_extension": ".py",
   "mimetype": "text/x-python",
   "name": "python",
   "nbconvert_exporter": "python",
   "pygments_lexer": "ipython3",
   "version": "3.10.7"
  }
 },
 "nbformat": 4,
 "nbformat_minor": 2
}
