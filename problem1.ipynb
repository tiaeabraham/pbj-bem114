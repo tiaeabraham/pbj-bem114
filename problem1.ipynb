{
 "cells": [
  {
   "cell_type": "markdown",
   "metadata": {},
   "source": [
    "# Imports"
   ]
  },
  {
   "cell_type": "code",
   "execution_count": 27,
   "metadata": {},
   "outputs": [],
   "source": [
    "import pandas as pd\n",
    "import statsmodels.api as sm"
   ]
  },
  {
   "cell_type": "markdown",
   "metadata": {},
   "source": [
    "# Part (a)"
   ]
  },
  {
   "cell_type": "markdown",
   "metadata": {},
   "source": [
    "## Load in Fama French Portfolio Data"
   ]
  },
  {
   "cell_type": "code",
   "execution_count": 12,
   "metadata": {},
   "outputs": [
    {
     "name": "stdout",
     "output_type": "stream",
     "text": [
      "   Year  Month  Mkt-RF    RF\n",
      "0  1926      7    2.96  0.22\n",
      "1  1926      8    2.64  0.25\n",
      "2  1926      9    0.36  0.23\n",
      "3  1926     10   -3.24  0.32\n",
      "4  1926     11    2.53  0.31\n"
     ]
    }
   ],
   "source": [
    "# Read the file, skipping header text rows and limiting to monthly data\n",
    "ff = pd.read_csv(\"F-F_Research_Data_Factors 3.CSV\", skiprows=3, nrows=1182)\n",
    "\n",
    "# Rename the date column for clarity\n",
    "ff.rename(columns={\"Unnamed: 0\": \"Date\"}, inplace=True)\n",
    "\n",
    "# Convert Date to string to extract Year and Month\n",
    "ff['Date'] = ff['Date'].astype(str)\n",
    "ff['Year'] = ff['Date'].str[:4].astype(int)\n",
    "ff['Month'] = ff['Date'].str[4:].astype(int)\n",
    "\n",
    "# Pull the columns we want\n",
    "ff = ff[['Year', 'Month', 'Mkt-RF', 'RF']]\n",
    "\n",
    "# Show the updated DataFrame\n",
    "print(ff.head())\n"
   ]
  },
  {
   "cell_type": "markdown",
   "metadata": {},
   "source": [
    "## Calculate Market Portfolio Statistics"
   ]
  },
  {
   "cell_type": "code",
   "execution_count": 25,
   "metadata": {},
   "outputs": [
    {
     "name": "stdout",
     "output_type": "stream",
     "text": [
      "MP Average Monthly Return: 0.9557\n",
      "MP Volatility: 5.3169\n",
      "MP Sharpe Ratio: 0.1798\n"
     ]
    }
   ],
   "source": [
    "# Compute market return\n",
    "ff[\"Mkt\"] = ff[\"Mkt-RF\"] + ff[\"RF\"]\n",
    "\n",
    "# Compute average monthly return, volatility, and Sharpe ratio\n",
    "mp_avg_return = ff[\"Mkt\"].mean()\n",
    "mp_volatility = ff[\"Mkt\"].std()\n",
    "mp_sharpe_ratio = mp_avg_return / mp_volatility\n",
    "\n",
    "print(f\"MP Average Monthly Return: {mp_avg_return:.4f}\")\n",
    "print(f\"MP Volatility: {mp_volatility:.4f}\")\n",
    "print(f\"MP Sharpe Ratio: {mp_sharpe_ratio:.4f}\")"
   ]
  },
  {
   "cell_type": "markdown",
   "metadata": {},
   "source": [
    "# Part (b)"
   ]
  },
  {
   "cell_type": "markdown",
   "metadata": {},
   "source": [
    "## Load in Strategies Dataset"
   ]
  },
  {
   "cell_type": "code",
   "execution_count": 21,
   "metadata": {},
   "outputs": [
    {
     "name": "stdout",
     "output_type": "stream",
     "text": [
      "   Year  Month        CA\n",
      "0  1990      1 -1.771984\n",
      "1  1990      2  1.418966\n",
      "2  1990      3  1.375007\n",
      "3  1990      4 -0.395588\n",
      "4  1990      5  2.588010\n"
     ]
    }
   ],
   "source": [
    "# Read the file, skipping header text rows and limiting to monthly data\n",
    "ss = pd.read_csv(\"ps1_strategies.csv\")\n",
    "\n",
    "# Convert Date to string to extract Year and Month\n",
    "ss['date'] = ss['date'].astype(str)\n",
    "ss['Year'] = ss['date'].str[:4].astype(int)\n",
    "ss['Month'] = ss['date'].str[4:].astype(int)\n",
    "\n",
    "# Pull the columns we want\n",
    "ss = ss[['Year', 'Month', 'CA']]\n",
    "\n",
    "# Show the updated DataFrame\n",
    "print(ss.head())"
   ]
  },
  {
   "cell_type": "markdown",
   "metadata": {},
   "source": [
    "## Calculate Constant Alpha Statistics"
   ]
  },
  {
   "cell_type": "code",
   "execution_count": 24,
   "metadata": {},
   "outputs": [
    {
     "name": "stdout",
     "output_type": "stream",
     "text": [
      "CA Average Monthly Return: 0.7340\n",
      "CA Volatility: 2.6294\n",
      "CA Sharpe Ratio: 0.2791\n"
     ]
    }
   ],
   "source": [
    "# Compute average monthly return, volatility, and Sharpe ratio\n",
    "ca_avg_return = ss[\"CA\"].mean()\n",
    "ca_volatility = ss[\"CA\"].std()\n",
    "ca_sharpe_ratio = ca_avg_return / ca_volatility\n",
    "\n",
    "print(f\"CA Average Monthly Return: {ca_avg_return:.4f}\")\n",
    "print(f\"CA Volatility: {ca_volatility:.4f}\")\n",
    "print(f\"CA Sharpe Ratio: {ca_sharpe_ratio:.4f}\")"
   ]
  },
  {
   "cell_type": "markdown",
   "metadata": {},
   "source": [
    "# Part (c)"
   ]
  },
  {
   "cell_type": "code",
   "execution_count": null,
   "metadata": {},
   "outputs": [],
   "source": []
  }
 ],
 "metadata": {
  "kernelspec": {
   "display_name": "Python 3",
   "language": "python",
   "name": "python3"
  },
  "language_info": {
   "codemirror_mode": {
    "name": "ipython",
    "version": 3
   },
   "file_extension": ".py",
   "mimetype": "text/x-python",
   "name": "python",
   "nbconvert_exporter": "python",
   "pygments_lexer": "ipython3",
   "version": "3.10.7"
  }
 },
 "nbformat": 4,
 "nbformat_minor": 2
}
