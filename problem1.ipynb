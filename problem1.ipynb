{
 "cells": [
  {
   "cell_type": "markdown",
   "metadata": {},
   "source": [
    "# Imports"
   ]
  },
  {
   "cell_type": "code",
   "execution_count": 1,
   "metadata": {},
   "outputs": [],
   "source": [
    "import pandas as pd\n",
    "import numpy as np"
   ]
  },
  {
   "cell_type": "markdown",
   "metadata": {},
   "source": [
    "# Load in Data"
   ]
  },
  {
   "cell_type": "code",
   "execution_count": null,
   "metadata": {},
   "outputs": [
    {
     "name": "stdout",
     "output_type": "stream",
     "text": [
      "   Year  Month  Mkt-RF    RF\n",
      "0  1926      7    2.96  0.22\n",
      "1  1926      8    2.64  0.25\n",
      "2  1926      9    0.36  0.23\n",
      "3  1926     10   -3.24  0.32\n",
      "4  1926     11    2.53  0.31\n"
     ]
    }
   ],
   "source": [
    "# Load the CSV file\n",
    "file_path = \"F-F_Research_Data_Factors 3.CSV\"\n",
    "\n",
    "# Read the file, skipping header text rows and limiting to monthly data\n",
    "ff = pd.read_csv(file_path, skiprows=3, nrows=1182)\n",
    "\n",
    "# Rename the date column for clarity\n",
    "ff.rename(columns={\"Unnamed: 0\": \"Date\"}, inplace=True)\n",
    "\n",
    "# Convert Date to string to extract Year and Month\n",
    "ff['Date'] = ff['Date'].astype(str)\n",
    "ff['Year'] = ff['Date'].str[:4].astype(int)\n",
    "ff['Month'] = ff['Date'].str[4:].astype(int)\n",
    "\n",
    "# Pull the columns we want\n",
    "ff = ff[['Year', 'Month', 'Mkt-RF', 'RF']]\n",
    "\n",
    "# Show the updated DataFrame\n",
    "print(ff.head())\n"
   ]
  },
  {
   "cell_type": "markdown",
   "metadata": {},
   "source": [
    "# Part (A)"
   ]
  },
  {
   "cell_type": "code",
   "execution_count": 15,
   "metadata": {},
   "outputs": [
    {
     "name": "stdout",
     "output_type": "stream",
     "text": [
      "Average Monthly Return: 0.9557\n",
      "Volatility: 5.3169\n",
      "Sharpe Ratio: 0.1798\n"
     ]
    }
   ],
   "source": [
    "# Compute market return\n",
    "ff[\"Mkt\"] = ff[\"Mkt-RF\"] + ff[\"RF\"]\n",
    "\n",
    "# Compute average monthly return, volatility, and Sharpe ratio\n",
    "avg_return = ff[\"Mkt\"].mean()\n",
    "volatility = ff[\"Mkt\"].std()\n",
    "sharpe_ratio = avg_return / volatility\n",
    "\n",
    "print(f\"Average Monthly Return: {avg_return:.4f}\")\n",
    "print(f\"Volatility: {volatility:.4f}\")\n",
    "print(f\"Sharpe Ratio: {sharpe_ratio:.4f}\")"
   ]
  }
 ],
 "metadata": {
  "kernelspec": {
   "display_name": "Python 3",
   "language": "python",
   "name": "python3"
  },
  "language_info": {
   "codemirror_mode": {
    "name": "ipython",
    "version": 3
   },
   "file_extension": ".py",
   "mimetype": "text/x-python",
   "name": "python",
   "nbconvert_exporter": "python",
   "pygments_lexer": "ipython3",
   "version": "3.10.7"
  }
 },
 "nbformat": 4,
 "nbformat_minor": 2
}
