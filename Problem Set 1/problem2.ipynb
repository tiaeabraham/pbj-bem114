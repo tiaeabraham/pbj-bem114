{
 "cells": [
  {
   "cell_type": "markdown",
   "metadata": {},
   "source": [
    "# Imports"
   ]
  },
  {
   "cell_type": "code",
   "execution_count": 1,
   "metadata": {},
   "outputs": [],
   "source": [
    "import pandas as pd\n",
    "import statsmodels.api as sm\n",
    "import matplotlib.pyplot as plt\n",
    "from ipynb.fs.defs.problem1 import estimate_capm\n"
   ]
  },
  {
   "cell_type": "markdown",
   "metadata": {},
   "source": [
    "## Load in Fama French Portfolio Data"
   ]
  },
  {
   "cell_type": "code",
   "execution_count": 3,
   "metadata": {},
   "outputs": [],
   "source": [
    "# Read the file, skipping header text rows and limiting to monthly data\n",
    "ff = pd.read_csv(\"F-F_Research_Data_Factors 3.CSV\", skiprows=3, nrows=1182)\n",
    "\n",
    "# Rename the date column for clarity\n",
    "ff.rename(columns={\"Unnamed: 0\": \"Date\"}, inplace=True)\n",
    "\n",
    "# Convert Date to string to extract Year and Month\n",
    "ff['Date'] = ff['Date'].astype(str)\n",
    "ff['Year'] = ff['Date'].str[:4].astype(int)\n",
    "ff['Month'] = ff['Date'].str[4:].astype(int)\n",
    "\n",
    "# Convert other values to floats\n",
    "ff['Mkt-RF'] = ff['Mkt-RF'].astype(float)\n",
    "ff['RF'] = ff['RF'].astype(float)\n",
    "\n",
    "# Pull the columns we want\n",
    "ff = ff[['Year', 'Month', 'Mkt-RF', 'RF']]"
   ]
  },
  {
   "cell_type": "markdown",
   "metadata": {},
   "source": [
    "## Load in Strategies Dataset"
   ]
  },
  {
   "cell_type": "code",
   "execution_count": 4,
   "metadata": {},
   "outputs": [],
   "source": [
    "# Read the file\n",
    "ss = pd.read_csv(\"ps1_strategies.csv\")\n",
    "\n",
    "# Convert Date to string to extract Year and Month\n",
    "ss['date'] = ss['date'].astype(str)\n",
    "ss['Year'] = ss['date'].str[:4].astype(int)\n",
    "ss['Month'] = ss['date'].str[4:].astype(int)\n",
    "\n",
    "# Make other values floats\n",
    "ss['CA'] = ss['CA'].astype(float)\n",
    "\n",
    "# Pull the columns we want\n",
    "ss = ss[['Year', 'Month', 'CA']]"
   ]
  },
  {
   "cell_type": "markdown",
   "metadata": {},
   "source": [
    "# Part (a)"
   ]
  },
  {
   "cell_type": "code",
   "execution_count": 7,
   "metadata": {},
   "outputs": [
    {
     "name": "stdout",
     "output_type": "stream",
     "text": [
      "CAPM Results for LBHA Strategy\n",
      "Alpha: 0.2729\n",
      "Beta: 0.0067\n",
      "                            OLS Regression Results                            \n",
      "==============================================================================\n",
      "Dep. Variable:                  RP-RF   R-squared:                       0.000\n",
      "Model:                            OLS   Adj. R-squared:                 -0.002\n",
      "Method:                 Least Squares   F-statistic:                   0.08125\n",
      "Date:                Thu, 10 Apr 2025   Prob (F-statistic):              0.776\n",
      "Time:                        00:42:27   Log-Likelihood:                -853.10\n",
      "No. Observations:                 397   AIC:                             1710.\n",
      "Df Residuals:                     395   BIC:                             1718.\n",
      "Df Model:                           1                                         \n",
      "Covariance Type:            nonrobust                                         \n",
      "==============================================================================\n",
      "                 coef    std err          t      P>|t|      [0.025      0.975]\n",
      "------------------------------------------------------------------------------\n",
      "const          0.2729      0.106      2.583      0.010       0.065       0.481\n",
      "Mkt-RF         0.0067      0.023      0.285      0.776      -0.039       0.053\n",
      "==============================================================================\n",
      "Omnibus:                        0.935   Durbin-Watson:                   2.046\n",
      "Prob(Omnibus):                  0.627   Jarque-Bera (JB):                0.910\n",
      "Skew:                          -0.117   Prob(JB):                        0.635\n",
      "Kurtosis:                       2.977   Cond. No.                         4.57\n",
      "==============================================================================\n",
      "\n",
      "Notes:\n",
      "[1] Standard Errors assume that the covariance matrix of the errors is correctly specified.\n"
     ]
    }
   ],
   "source": [
    "results_lbha = estimate_capm(ss, ff, 'LBHA')\n",
    "\n",
    "print(\"CAPM Results for LBHA Strategy\")\n",
    "print(f\"Alpha: {results_lbha['alpha']:.4f}\")\n",
    "print(f\"Beta: {results_lbha['beta']:.4f}\")\n",
    "print(results_lbha['summary'])"
   ]
  },
  {
   "cell_type": "markdown",
   "metadata": {},
   "source": [
    "Based on these regression results, LBHA does indeed show positive and statistically significant alpha (0.2729, p=0.01) and a very low market beta (0.0067). Because alpha is both positive and significant, the strategy is generating returns above and beyond what would be explained by its market exposure. In other words, LBHA exhibits risk-adjusted outperformance relative to the CAPM market benchmark, which implies that it **beats the market** under this model."
   ]
  },
  {
   "cell_type": "markdown",
   "metadata": {},
   "source": [
    "# Part (b)"
   ]
  },
  {
   "cell_type": "code",
   "execution_count": null,
   "metadata": {},
   "outputs": [],
   "source": []
  },
  {
   "cell_type": "markdown",
   "metadata": {},
   "source": [
    "# Part (c)"
   ]
  }
 ],
 "metadata": {
  "kernelspec": {
   "display_name": "Python 3",
   "language": "python",
   "name": "python3"
  },
  "language_info": {
   "codemirror_mode": {
    "name": "ipython",
    "version": 3
   },
   "file_extension": ".py",
   "mimetype": "text/x-python",
   "name": "python",
   "nbconvert_exporter": "python",
   "pygments_lexer": "ipython3",
   "version": "3.10.7"
  }
 },
 "nbformat": 4,
 "nbformat_minor": 2
}
