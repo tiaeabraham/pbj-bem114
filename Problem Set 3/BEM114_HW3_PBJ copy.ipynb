{
 "cells": [
  {
   "cell_type": "code",
   "execution_count": 158,
   "id": "78de08d0",
   "metadata": {},
   "outputs": [
    {
     "name": "stdout",
     "output_type": "stream",
     "text": [
      "✓ BCW rows with PERMNO: 1,329\n",
      "✓ CRSP rows kept: 3,630,644\n",
      "\n",
      "Step 1 complete ✔  (wrote bcw_clean.parquet & crsp_clean.parquet)\n"
     ]
    }
   ],
   "source": [
    "\"\"\"\n",
    "STEP 1  –  Build clean BCW list + CRSP monthly file\n",
    "===================================================\n",
    "\n",
    "• bcwlist.csv  : repeating 5-column blocks\n",
    "    rank | company | permno | year | (blank)\n",
    "\n",
    "• crsp_1926_2020.csv : monthly CRSP returns\n",
    "\n",
    "Outputs\n",
    "--------\n",
    "bcw_clean.parquet   list_year | rank | company | PERMNO\n",
    "crsp_clean.parquet  CRSP monthly (clean), incl. mktcap & month stamp\n",
    "\"\"\"\n",
    "\n",
    "from pathlib import Path\n",
    "import pandas as pd\n",
    "import numpy as np\n",
    "\n",
    "# ------------------------------------------------------------------\n",
    "# File locations\n",
    "# ------------------------------------------------------------------\n",
    "ROOT      = Path(\".\")\n",
    "BCW_CSV   = ROOT / \"bcwlist.csv\"\n",
    "CRSP_CSV  = ROOT / \"crsp_1926_2020.csv\"\n",
    "\n",
    "# ------------------------------------------------------------------\n",
    "# 1) Parse bcwlist.csv  (5-column stride)\n",
    "# ------------------------------------------------------------------\n",
    "raw = pd.read_csv(BCW_CSV, dtype=str)\n",
    "\n",
    "blocks = []\n",
    "cols = list(raw.columns)\n",
    "stride = 5   # rank,company,permno,year,blank\n",
    "\n",
    "for i in range(0, len(cols), stride):\n",
    "    if i + 3 >= len(cols):\n",
    "        break\n",
    "    sub = raw.iloc[:, i : i + 4].copy()   # first four columns\n",
    "    hdr = [str(c).strip().lower() for c in sub.columns]\n",
    "    if hdr != [\"rank\", \"company\", \"permno\", \"year\"]:\n",
    "        continue\n",
    "    sub.columns = [\"rank\", \"company\", \"PERMNO\", \"list_year\"]\n",
    "    blocks.append(sub)\n",
    "\n",
    "if not blocks:\n",
    "    raise ValueError(\"No valid rank/company/permno/year blocks found in bcwlist.csv.\")\n",
    "\n",
    "bcw = pd.concat(blocks, ignore_index=True)\n",
    "\n",
    "# Clean datatypes\n",
    "bcw[\"rank\"]      = pd.to_numeric(bcw[\"rank\"], errors=\"coerce\")\n",
    "bcw[\"PERMNO\"]    = pd.to_numeric(bcw[\"PERMNO\"], errors=\"coerce\")\n",
    "bcw[\"list_year\"] = pd.to_numeric(bcw[\"list_year\"], errors=\"coerce\")\n",
    "bcw[\"company\"]   = bcw[\"company\"].astype(str).str.strip()\n",
    "\n",
    "bcw = (\n",
    "    bcw.dropna(subset=[\"rank\", \"PERMNO\", \"list_year\"])\n",
    "       .query(\"1984 <= list_year <= 2020\")\n",
    "       .reset_index(drop=True)\n",
    ")\n",
    "\n",
    "print(f\"✓ BCW rows with PERMNO: {len(bcw):,}\")\n",
    "\n",
    "# ------------------------------------------------------------------\n",
    "# 2) Clean CRSP monthly per your spec\n",
    "# ------------------------------------------------------------------\n",
    "crsp = pd.read_csv(CRSP_CSV, parse_dates=[\"date\"])\n",
    "\n",
    "# 2.1 keep common shares (SHRCD 10 or 11)\n",
    "crsp = crsp[crsp[\"SHRCD\"].isin([10, 11])]\n",
    "\n",
    "# 2.2 restrict to NYSE / AMEX / NASDAQ\n",
    "crsp = crsp[crsp[\"EXCHCD\"].isin([1, 2, 3])]\n",
    "\n",
    "# 2.3 mask negative prices (−999 etc.)\n",
    "crsp[\"PRC\"] = crsp[\"PRC\"].mask(crsp[\"PRC\"] < 0)\n",
    "\n",
    "# 2.4 build market cap and month stamp\n",
    "crsp[\"mktcap\"] = crsp[\"PRC\"] * crsp[\"SHROUT\"]\n",
    "crsp[\"month\"]  = crsp[\"date\"].dt.to_period(\"M\").dt.to_timestamp(\"M\")\n",
    "\n",
    "print(f\"✓ CRSP rows kept: {len(crsp):,}\")\n",
    "\n",
    "# ------------------------------------------------------------------\n",
    "# 3) Save tidy artefacts\n",
    "# ------------------------------------------------------------------\n",
    "bcw.to_parquet (\"bcw_clean.parquet\",  index=False)\n",
    "crsp.to_parquet(\"crsp_clean.parquet\", index=False)\n",
    "\n",
    "print(\"\\nStep 1 complete ✔  (wrote bcw_clean.parquet & crsp_clean.parquet)\")\n"
   ]
  },
  {
   "cell_type": "code",
   "execution_count": 159,
   "id": "27fb7309",
   "metadata": {},
   "outputs": [
    {
     "name": "stdout",
     "output_type": "stream",
     "text": [
      "Step 2 complete – wrote holding_windows.parquet and bcw_holdings.parquet\n"
     ]
    }
   ],
   "source": [
    "\"\"\"\n",
    "STEP 2 – Attach formation_date & end_date to each BCW-firm row.\n",
    "\n",
    "Rules\n",
    "-----\n",
    "1984 list :  1 Apr 1984 – 28 Feb 1993\n",
    "1993 list :  1 Mar 1993 – 31 Jan 1998\n",
    "1998+    :   portfolio forms 1 Feb Year, held through 31 Jan Year+1\n",
    "\n",
    "Output\n",
    "------\n",
    "bcw_holdings.parquet   (adds two Timestamp columns)\n",
    "holding_windows.parquet  (one row per list-year)\n",
    "\"\"\"\n",
    "\n",
    "import pandas as pd\n",
    "from pathlib import Path\n",
    "\n",
    "BCW_PARQ = Path(\"bcw_clean.parquet\")\n",
    "\n",
    "def window_dates(y: int):\n",
    "    if y == 1984:\n",
    "        return pd.Timestamp(\"1984-04-01\"), pd.Timestamp(\"1993-02-28\")\n",
    "    if y == 1993:\n",
    "        return pd.Timestamp(\"1993-03-01\"), pd.Timestamp(\"1998-01-31\")\n",
    "    return pd.Timestamp(f\"{y}-02-01\"), pd.Timestamp(f\"{y+1}-01-31\")\n",
    "\n",
    "bcw = pd.read_parquet(BCW_PARQ)\n",
    "\n",
    "win_tbl = (\n",
    "    pd.DataFrame(sorted(bcw[\"list_year\"].unique()), columns=[\"list_year\"])\n",
    "      .assign(formation_date=lambda d: d[\"list_year\"].apply(lambda y: window_dates(y)[0]),\n",
    "              end_date      =lambda d: d[\"list_year\"].apply(lambda y: window_dates(y)[1]))\n",
    ")\n",
    "\n",
    "bcw_hold = bcw.merge(win_tbl, on=\"list_year\", how=\"left\")\n",
    "\n",
    "win_tbl.to_parquet(\"holding_windows.parquet\", index=False)\n",
    "bcw_hold.to_parquet(\"bcw_holdings.parquet\",   index=False)\n",
    "\n",
    "print(\"Step 2 complete – wrote holding_windows.parquet and bcw_holdings.parquet\")\n"
   ]
  },
  {
   "cell_type": "code",
   "execution_count": 160,
   "id": "1466fda4",
   "metadata": {},
   "outputs": [
    {
     "name": "stderr",
     "output_type": "stream",
     "text": [
      "C:\\Users\\jalde\\AppData\\Local\\Temp\\ipykernel_16696\\1545781689.py:36: FutureWarning: 'M' is deprecated and will be removed in a future version, please use 'ME' instead.\n",
      "  months = pd.date_range(start, finish, freq=\"M\")\n"
     ]
    },
    {
     "name": "stdout",
     "output_type": "stream",
     "text": [
      "Step 3 complete – wrote bcw_portfolio_returns.parquet (442 rows).\n"
     ]
    }
   ],
   "source": [
    "\"\"\"\n",
    "STEP 3 – Build monthly equal- and value-weighted returns.\n",
    "\n",
    "Rules\n",
    "-----\n",
    "• A stock enters one month after its first appearance in CRSP.\n",
    "• If it delists mid-window, treat its subsequent monthly return as 0.\n",
    "• Rebalance only when composition changes (IPO / delist) or at the\n",
    "  annual re-formation date; for simplicity we rebuild weights every month.\n",
    "\n",
    "Output\n",
    "------\n",
    "bcw_portfolio_returns.parquet   (month | EW_ret | VW_ret | n_stocks)\n",
    "\"\"\"\n",
    "\n",
    "import pandas as pd, numpy as np\n",
    "from pathlib import Path\n",
    "\n",
    "HOLD_PARQ = Path(\"bcw_holdings.parquet\")\n",
    "CRSP_PARQ = Path(\"crsp_clean.parquet\")\n",
    "OUT_PARQ  = Path(\"bcw_portfolio_returns.parquet\")\n",
    "\n",
    "hold = pd.read_parquet(HOLD_PARQ)\n",
    "crsp = pd.read_parquet(CRSP_PARQ)\n",
    "\n",
    "# IPO rule ─ eligible one full month after first CRSP record\n",
    "first_month = crsp.groupby(\"PERMNO\")[\"month\"].min().rename(\"first_month\")\n",
    "hold = hold.merge(first_month, on=\"PERMNO\", how=\"left\")\n",
    "hold[\"elig_month\"] = (\n",
    "    hold[\"first_month\"].dt.to_period(\"M\").dt.to_timestamp() + pd.offsets.MonthBegin(1)\n",
    ")\n",
    "\n",
    "# Monthly calendar\n",
    "start  = hold[\"formation_date\"].min()\n",
    "finish = hold[\"end_date\"].max()\n",
    "months = pd.date_range(start, finish, freq=\"M\")\n",
    "\n",
    "# Slice CRSP helpers\n",
    "# Slice CRSP helpers\n",
    "ret_tbl = crsp[[\"PERMNO\",\"month\",\"RET\"]].copy()\n",
    "ret_tbl[\"RET\"] = (\n",
    "    ret_tbl[\"RET\"].astype(str).str.strip()      # NEW\n",
    "                   .replace(\"\", np.nan)         # NEW\n",
    "                   .pipe(pd.to_numeric, errors=\"coerce\")\n",
    ")\n",
    "cap_tbl = crsp[[\"PERMNO\",\"month\",\"mktcap\"]]\n",
    "\n",
    "records = []\n",
    "\n",
    "for m in months:\n",
    "    active = hold[(hold[\"formation_date\"] <= m) &\n",
    "                  (hold[\"end_date\"]       >= m) &\n",
    "                  (hold[\"elig_month\"]     <= m)]\n",
    "    if active.empty:\n",
    "        records.append({\"month\": m, \"EW_ret\": np.nan, \"VW_ret\": np.nan, \"n_stocks\": 0})\n",
    "        continue\n",
    "\n",
    "    ids = active[\"PERMNO\"].unique()\n",
    "\n",
    "    # returns (delisting → 0)\n",
    "    r = (ret_tbl[(ret_tbl[\"PERMNO\"].isin(ids)) & (ret_tbl[\"month\"]==m)]\n",
    "           .set_index(\"PERMNO\")[\"RET\"]\n",
    "           .reindex(ids)\n",
    "           .fillna(0.0))\n",
    "\n",
    "    ew_ret = r.mean()\n",
    "\n",
    "    # value weights = previous-month mktcap\n",
    "    prev = (m - pd.offsets.MonthBegin()).to_period(\"M\").to_timestamp()\n",
    "    w = (cap_tbl[(cap_tbl[\"PERMNO\"].isin(ids)) & (cap_tbl[\"month\"]==prev)]\n",
    "           .set_index(\"PERMNO\")[\"mktcap\"]\n",
    "           .reindex(ids)\n",
    "           .fillna(0.0))\n",
    "    vw_ret = ew_ret if w.sum()==0 else np.dot(w / w.sum(), r)\n",
    "\n",
    "    records.append({\"month\": m, \"EW_ret\": ew_ret, \"VW_ret\": vw_ret, \"n_stocks\": len(ids)})\n",
    "\n",
    "pd.DataFrame.from_records(records).set_index(\"month\").to_parquet(OUT_PARQ)\n",
    "\n",
    "print(f\"Step 3 complete – wrote {OUT_PARQ} ({len(records)} rows).\")\n"
   ]
  },
  {
   "cell_type": "code",
   "execution_count": 161,
   "id": "c44feab7",
   "metadata": {},
   "outputs": [
    {
     "name": "stdout",
     "output_type": "stream",
     "text": [
      "\n",
      "First 5 rows:\n",
      "              EW_ret    VW_ret  n_stocks\n",
      "month                                   \n",
      "1984-04-30  0.001398  0.001398        74\n",
      "1984-05-31 -0.058195 -0.058195        74\n",
      "1984-06-30  0.050989  0.050989        74\n",
      "1984-07-31 -0.039333 -0.039333        74\n",
      "1984-08-31  0.123326  0.123326        74\n",
      "\n",
      "Last 5 rows:\n",
      "              EW_ret    VW_ret  n_stocks\n",
      "month                                   \n",
      "2020-09-30 -0.041820 -0.041820        40\n",
      "2020-10-31 -0.018200 -0.018200        40\n",
      "2020-11-30  0.139916  0.139916        40\n",
      "2020-12-31  0.058806  0.058806        40\n",
      "2021-01-31  0.000000  0.000000        40\n",
      "\n",
      "Summary statistics:\n",
      "           Mean    StDev  Sharpe (ann)\n",
      "EW_ret   0.0118   0.0509        0.8003\n",
      "VW_ret   0.0118   0.0509        0.8003\n"
     ]
    },
    {
     "data": {
      "image/png": "[encoded data removed]",
      "text/plain": [
       "<Figure size 800x500 with 1 Axes>"
      ]
     },
     "metadata": {},
     "output_type": "display_data"
    }
   ],
   "source": [
    "import pandas as pd, numpy as np, matplotlib.pyplot as plt, textwrap\n",
    "\n",
    "RET_FILE = \"bcw_portfolio_returns.parquet\"\n",
    "\n",
    "# -------------------------------------------------------\n",
    "# 1. load & preview\n",
    "# -------------------------------------------------------\n",
    "df = pd.read_parquet(RET_FILE)\n",
    "\n",
    "print(\"\\nFirst 5 rows:\")\n",
    "print(df.head().to_string())\n",
    "print(\"\\nLast 5 rows:\")\n",
    "print(df.tail().to_string())\n",
    "\n",
    "# -------------------------------------------------------\n",
    "# 2. basic stats\n",
    "# -------------------------------------------------------\n",
    "stats = pd.DataFrame({\n",
    "    \"Mean\":        df[[\"EW_ret\",\"VW_ret\"]].mean(),\n",
    "    \"StDev\":       df[[\"EW_ret\",\"VW_ret\"]].std(),\n",
    "})\n",
    "stats[\"Sharpe (ann)\"] = stats[\"Mean\"]/stats[\"StDev\"]*np.sqrt(12)\n",
    "\n",
    "print(\"\\nSummary statistics:\")\n",
    "print(stats.to_string(float_format=lambda x:f\"{x:8.4f}\"))\n",
    "\n",
    "# -------------------------------------------------------\n",
    "# 3. cumulative-growth plot\n",
    "# -------------------------------------------------------\n",
    "cum = (1+df[[\"EW_ret\",\"VW_ret\"]]).cumprod()\n",
    "plt.figure(figsize=(8,5))\n",
    "plt.plot(cum.index, cum[\"EW_ret\"], label=\"Equal-weighted\")\n",
    "plt.plot(cum.index, cum[\"VW_ret\"], label=\"Value-weighted\")\n",
    "plt.title(\"Best-Companies strategy – cumulative $1\")\n",
    "plt.ylabel(\"Cumulative $1\")\n",
    "plt.legend()\n",
    "plt.tight_layout()\n",
    "plt.show()\n"
   ]
  },
  {
   "cell_type": "code",
   "execution_count": 162,
   "id": "171525cf",
   "metadata": {},
   "outputs": [
    {
     "name": "stdout",
     "output_type": "stream",
     "text": [
      "\n",
      "Head of VW_ret after new Step 3:\n",
      "month\n",
      "1984-04-30    0.001398\n",
      "1984-05-31   -0.058195\n",
      "1984-06-30    0.050989\n",
      "1984-07-31   -0.039333\n",
      "1984-08-31    0.123326\n",
      "1984-09-30   -0.008214\n",
      "1984-10-31    0.005439\n",
      "1984-11-30   -0.018925\n",
      "1984-12-31    0.034196\n",
      "1985-01-31    0.108370\n",
      "1985-02-28    0.012540\n",
      "1985-03-31   -0.018409\n",
      "Name: VW_ret, dtype: float64\n",
      "Non-NaN rows : 442\n",
      "Non-zero rows: 441\n",
      "\n",
      "First 5 factor dates : DatetimeIndex(['1926-07-31', '1926-08-31', '1926-09-30', '1926-10-31',\n",
      "               '1926-11-30'],\n",
      "              dtype='datetime64[ns]', name='Date', freq=None)\n",
      "First 5 return dates : DatetimeIndex(['1984-04-30', '1984-05-31', '1984-06-30', '1984-07-31',\n",
      "               '1984-08-31'],\n",
      "              dtype='datetime64[ns]', name='month', freq=None)\n",
      "\n",
      "Rows that overlap : 442\n"
     ]
    }
   ],
   "source": [
    "import pandas as pd, numpy as np, re\n",
    "\n",
    "# 1. Load the freshly rebuilt return file\n",
    "prt = pd.read_parquet(\"bcw_portfolio_returns.parquet\")\n",
    "print(\"\\nHead of VW_ret after new Step 3:\")\n",
    "print(prt[\"VW_ret\"].head(12))\n",
    "\n",
    "# 2. How many VW_ret values are non-zero / non-NaN?\n",
    "print(\"Non-NaN rows :\", prt[\"VW_ret\"].notna().sum())\n",
    "print(\"Non-zero rows:\", (prt[\"VW_ret\"]!=0).sum())\n",
    "\n",
    "# 3. Load factors (month-end stamps)\n",
    "def load_ff_csv(path, colnames):\n",
    "    \"\"\"\n",
    "    Robust Ken-French loader (comma *or* whitespace delimited)\n",
    "    that keeps a month-end DatetimeIndex and converts only data columns.\n",
    "    \"\"\"\n",
    "    import re, pandas as pd\n",
    "\n",
    "    # detect delimiter and first monthly row\n",
    "    start, delim = 0, r\"\\s+\"\n",
    "    with open(path) as fh:\n",
    "        for i, line in enumerate(fh):\n",
    "            if re.match(r\"\\s*\\d{6},\", line):  start, delim = i, \",\" ; break\n",
    "            if re.match(r\"\\s*\\d{6}\\s\", line): start, delim = i, r\"\\s+\" ; break\n",
    "\n",
    "    df = pd.read_csv(path, skiprows=start, sep=delim, engine=\"python\", header=None)\n",
    "\n",
    "    # keep only rows whose first col is 6 digits (YYYYMM)\n",
    "    df = df[df[0].astype(str).str.match(r\"^\\d{6}$\")].copy()\n",
    "\n",
    "    # parse dates first ♦\n",
    "    df[0] = (pd.to_datetime(df[0], format=\"%Y%m\")\n",
    "               .dt.to_period(\"M\").dt.to_timestamp(\"M\"))\n",
    "\n",
    "    # rename columns\n",
    "    df.columns = [\"Date\"] + colnames\n",
    "    df = df.set_index(\"Date\")\n",
    "\n",
    "    # convert only the data columns to decimals\n",
    "    df[colnames] = df[colnames].apply(pd.to_numeric, errors=\"coerce\") / 100.0\n",
    "    return df\n",
    "\n",
    "\n",
    "ff3 = load_ff_csv(\"F-F_Research_Data_Factors.CSV\",\n",
    "                  [\"Mkt-RF\",\"SMB\",\"HML\",\"RF\"])\n",
    "\n",
    "print(\"\\nFirst 5 factor dates :\", ff3.index[:5])\n",
    "print(\"First 5 return dates :\", prt.index[:5])\n",
    "\n",
    "print(\"\\nRows that overlap :\" ,\n",
    "      len(prt.join(ff3, how=\"inner\")))\n"
   ]
  },
  {
   "cell_type": "code",
   "execution_count": 163,
   "id": "7fab4b45",
   "metadata": {},
   "outputs": [],
   "source": [
    "import pandas as pd, numpy as np, statsmodels.api as sm, matplotlib.pyplot as plt, re\n",
    "\n",
    "def load_ff_csv(path, colnames):\n",
    "    \"\"\"Robust loader for Ken-French CSVs (comma *or* whitespace).\"\"\"\n",
    "    start, delim = 0, r\"\\s+\"\n",
    "    with open(path) as fh:\n",
    "        for i,l in enumerate(fh):\n",
    "            if re.match(r\"\\s*\\d{6},\", l):  start, delim = i, \",\" ; break\n",
    "            if re.match(r\"\\s*\\d{6}\\s\", l): start, delim = i, r\"\\s+\" ; break\n",
    "    df = pd.read_csv(path, skiprows=start, sep=delim, engine=\"python\", header=None)\n",
    "    df = df[df[0].astype(str).str.match(r\"^\\d{6}$\")].copy()\n",
    "    df[0] = pd.to_datetime(df[0], format=\"%Y%m\").dt.to_period(\"M\").dt.to_timestamp(\"M\")\n",
    "    df.columns = [\"Date\"] + colnames\n",
    "    df = df.set_index(\"Date\")\n",
    "    df[colnames] = df[colnames].apply(pd.to_numeric, errors=\"coerce\")/100\n",
    "    return df.sort_index()\n",
    "\n",
    "# ---- data that every part needs ------------------------------------------\n",
    "port = pd.read_parquet(\"bcw_portfolio_returns.parquet\").sort_index()\n",
    "EW, VW = port[\"EW_ret\"].astype(float), port[\"VW_ret\"].astype(float)\n",
    "\n",
    "ff3   = load_ff_csv(\"F-F_Research_Data_Factors.CSV\",\n",
    "                    [\"Mkt-RF\",\"SMB\",\"HML\",\"RF\"])\n",
    "mom   = load_ff_csv(\"F-F_Momentum_Factor.CSV\",\n",
    "                    [\"Mom\"])\n",
    "ff5   = load_ff_csv(\"F-F_Research_Data_5_Factors_2x3.CSV\",\n",
    "                    [\"Mkt-RF\",\"SMB\",\"HML\",\"RMW\",\"CMA\",\"RF\"])\n",
    "ind12 = load_ff_csv(\"12_Industry_Portfolios.CSV\",\n",
    "                    [f\"Ind{i}\" for i in range(1,13)])\n",
    "factors = ff3.join(mom).join(ff5[[\"RMW\",\"CMA\"]])   # master table\n"
   ]
  },
  {
   "cell_type": "markdown",
   "id": "855058f6",
   "metadata": {},
   "source": [
    "## (a)"
   ]
  },
  {
   "cell_type": "code",
   "execution_count": 164,
   "id": "64f697a8",
   "metadata": {},
   "outputs": [
    {
     "name": "stdout",
     "output_type": "stream",
     "text": [
      "             Mean    StDev  Sharpe (ann)\n",
      "Equal-wt   0.0118   0.0509        0.8003\n",
      "Value-wt   0.0118   0.0509        0.8003\n"
     ]
    }
   ],
   "source": [
    "stats = pd.DataFrame({\n",
    "    \"Mean\":  [EW.mean(), VW.mean()],\n",
    "    \"StDev\": [EW.std(),  VW.std()]\n",
    "}, index=[\"Equal-wt\",\"Value-wt\"])\n",
    "stats[\"Sharpe (ann)\"] = stats[\"Mean\"]/stats[\"StDev\"]*np.sqrt(12)\n",
    "print(stats.to_string(float_format=lambda x:f\"{x:8.4f}\"))\n"
   ]
  },
  {
   "cell_type": "markdown",
   "id": "95903ed4",
   "metadata": {},
   "source": [
    "## (b)"
   ]
  },
  {
   "cell_type": "code",
   "execution_count": 165,
   "id": "368d2e63",
   "metadata": {},
   "outputs": [
    {
     "name": "stdout",
     "output_type": "stream",
     "text": [
      "CAPM     α=+0.0010  t=+1.05\n",
      "FF3      α=+0.0010  t=+1.22\n",
      "Carhart  α=+0.0021  t=+2.51\n",
      "FF5      α=+0.0012  t=+1.43\n"
     ]
    }
   ],
   "source": [
    "def hac_ols(y,X): return sm.OLS(y, sm.add_constant(X), missing=\"drop\").fit(\n",
    "                        cov_type=\"HAC\", cov_kwds={\"maxlags\":12})\n",
    "\n",
    "models = {\n",
    "    \"CAPM\"   : [\"Mkt-RF\"],\n",
    "    \"FF3\"    : [\"Mkt-RF\",\"SMB\",\"HML\"],\n",
    "    \"Carhart\": [\"Mkt-RF\",\"SMB\",\"HML\",\"Mom\"],\n",
    "    \"FF5\"    : [\"Mkt-RF\",\"SMB\",\"HML\",\"RMW\",\"CMA\"]\n",
    "}\n",
    "\n",
    "for name,facs in models.items():\n",
    "    d = factors[facs+[\"RF\"]].join(VW, how=\"inner\")\n",
    "    res = hac_ols(VW.loc[d.index]-d[\"RF\"], d[facs])\n",
    "    print(f\"{name:<8} α={res.params['const']:+.4f}  t={res.tvalues['const']:+.2f}\")\n"
   ]
  },
  {
   "cell_type": "markdown",
   "id": "da5e3582",
   "metadata": {},
   "source": [
    "## (c)"
   ]
  },
  {
   "cell_type": "code",
   "execution_count": 166,
   "id": "14cbf1f7",
   "metadata": {},
   "outputs": [
    {
     "data": {
      "image/png": "[encoded data removed]",
      "text/plain": [
       "<Figure size 800x500 with 1 Axes>"
      ]
     },
     "metadata": {},
     "output_type": "display_data"
    }
   ],
   "source": [
    "beta = hac_ols(VW - factors[\"RF\"], factors[[\"Mkt-RF\"]]).params[\"Mkt-RF\"]\n",
    "capm = factors[[\"Mkt-RF\",\"RF\"]].join(VW, how=\"inner\")\n",
    "exp  = capm[\"RF\"] + beta*capm[\"Mkt-RF\"]\n",
    "\n",
    "plt.figure(figsize=(8,5))\n",
    "plt.plot((1+VW.loc[capm.index]).cumprod(), label=\"VW actual\")\n",
    "plt.plot((1+exp).cumprod(), \"--\", label=\"CAPM expected\")\n",
    "plt.title(\"Cumulative $1: VW vs CAPM expected\"); plt.ylabel(\"Cumulative $1\")\n",
    "plt.legend(); plt.tight_layout(); plt.show()\n"
   ]
  },
  {
   "cell_type": "markdown",
   "id": "18e8c41a",
   "metadata": {},
   "source": [
    "## (d)"
   ]
  },
  {
   "cell_type": "code",
   "execution_count": 147,
   "id": "b9c3b62d",
   "metadata": {},
   "outputs": [
    {
     "name": "stdout",
     "output_type": "stream",
     "text": [
      "Carhart alpha split at 2010\n",
      "pre   α=+0.0031  t=+2.90\n",
      "post  α=-0.0008  t=-0.99\n"
     ]
    }
   ],
   "source": [
    "def split_alpha(slc, tag):\n",
    "    d = factors[[\"Mkt-RF\",\"SMB\",\"HML\",\"Mom\",\"RF\"]].join(VW, how=\"inner\").loc[slc]\n",
    "    res = hac_ols(VW.loc[d.index]-d[\"RF\"], d[[\"Mkt-RF\",\"SMB\",\"HML\",\"Mom\"]])\n",
    "    print(f\"{tag:<5} α={res.params['const']:+.4f}  t={res.tvalues['const']:+.2f}\")\n",
    "\n",
    "print(\"Carhart alpha split at 2010\")\n",
    "split_alpha(slice(None,\"2009-12-31\"), \"pre\")\n",
    "split_alpha(slice(\"2010-01-01\",None), \"post\")\n"
   ]
  },
  {
   "cell_type": "markdown",
   "id": "b8a9ff30",
   "metadata": {},
   "source": [
    "## (e)"
   ]
  },
  {
   "cell_type": "code",
   "execution_count": 148,
   "id": "a6323393",
   "metadata": {},
   "outputs": [
    {
     "name": "stdout",
     "output_type": "stream",
     "text": [
      "\n",
      "Pre-1999 betas:\n",
      " Ind1     0.0025\n",
      "Ind2    -0.0035\n",
      "Ind3     0.0109\n",
      "Ind4    -0.0027\n",
      "Ind5    -0.0026\n",
      "Ind6     0.0075\n",
      "Ind7    -0.0022\n",
      "Ind8     0.0069\n",
      "Ind9    -0.0035\n",
      "Ind10    0.0010\n",
      "Ind11   -0.0059\n",
      "Ind12   -0.0082\n",
      "\n",
      "Post-1999 betas:\n",
      " Ind1     0.0005\n",
      "Ind2     0.0000\n",
      "Ind3     0.0007\n",
      "Ind4    -0.0005\n",
      "Ind5     0.0003\n",
      "Ind6     0.0003\n",
      "Ind7    -0.0005\n",
      "Ind8     0.0008\n",
      "Ind9    -0.0003\n",
      "Ind10    0.0009\n",
      "Ind11   -0.0003\n",
      "Ind12   -0.0015\n"
     ]
    }
   ],
   "source": [
    "def ind_betas(slc, tag):\n",
    "    d = ind12.join(VW, how=\"inner\").loc[slc]\n",
    "    res = sm.OLS(d[\"VW_ret\"], sm.add_constant(d.drop(columns=\"VW_ret\")), missing=\"drop\").fit()\n",
    "    print(f\"\\n{tag} betas:\\n\", res.params.drop(\"const\").round(4).to_string())\n",
    "\n",
    "ind_betas(slice(None,\"1998-12-31\"),  \"Pre-1999\")\n",
    "ind_betas(slice(\"1999-01-01\",None), \"Post-1999\")\n"
   ]
  }
 ],
 "metadata": {
  "kernelspec": {
   "display_name": "Python 3",
   "language": "python",
   "name": "python3"
  },
  "language_info": {
   "codemirror_mode": {
    "name": "ipython",
    "version": 3
   },
   "file_extension": ".py",
   "mimetype": "text/x-python",
   "name": "python",
   "nbconvert_exporter": "python",
   "pygments_lexer": "ipython3",
   "version": "3.11.9"
  }
 },
 "nbformat": 4,
 "nbformat_minor": 5
}
