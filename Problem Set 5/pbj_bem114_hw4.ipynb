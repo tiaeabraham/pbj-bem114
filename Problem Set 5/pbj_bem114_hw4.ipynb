{
  "cells": [
    {
      "cell_type": "markdown",
      "id": "0f3300a0",
      "metadata": {},
      "source": [
        "**Names**: Tia (2205775), Bram Schork (2205684), Jacob Alderete (2206035)"
      ]
    },
    {
      "cell_type": "markdown",
      "id": "57c89f0d",
      "metadata": {},
      "source": [
        "# Imports"
      ]
    },
    {
      "cell_type": "code",
      "execution_count": 2,
      "id": "93f29794",
      "metadata": {},
      "outputs": [],
      "source": [
        "import copy\n",
        "import matplotlib.pyplot as plt\n",
        "import numpy as np\n",
        "import os\n",
        "import pandas as pd\n",
        "import random\n",
        "from sklearn.model_selection import train_test_split\n",
        "import statsmodels.api as sm\n",
        "from tensorflow.keras.models import Sequential\n",
        "from tensorflow.keras.layers import Dense\n",
        "import tensorflow as tf\n",
        "import warnings\n",
        "\n",
        "# We'll suppress some warnings from tensorflow, but feel free to\n",
        "# comment out this line and see some of the efficiency gains we can get!\n",
        "warnings.filterwarnings(\"ignore\")\n",
        "\n",
        "# SEED = 72 our seed\n",
        "SEED = 519"
      ]
    },
    {
      "cell_type": "markdown",
      "id": "9730a4d0",
      "metadata": {},
      "source": [
        "# Introduction"
      ]
    },
    {
      "cell_type": "markdown",
      "id": "9e677baf",
      "metadata": {
        "id": "9e677baf"
      },
      "source": [
        "In this problem set you will fit a simple feed-forward Neural Net in order to demonstrate how a neural net can be used to identify dependencies across factors in order to create a higher alpha.\n",
        "\n",
        "In question 1, we'll explore the comparison of a neural net to a linear model fit, and demonstrate some of the reasoning why a ReLU activation function is a common choice for neural nets in finance. In question 2, we'll analyze whether lag parameters may help further increase the performance of our model. In question 3, we'll investigate the importance of checking and robustness and reproducibility of the results of our fit.\n",
        "\n",
        "I have included some sample output as a sanity check for some questions. As discussed in question 3, the optimization of the neural net uses a stochastic component, and thus, your estimates will be slightly different from when you see here."
      ]
    },
    {
      "cell_type": "markdown",
      "id": "2b069c12",
      "metadata": {},
      "source": [
        "# Starting Code"
      ]
    },
    {
      "cell_type": "markdown",
      "id": "ad5fe51c",
      "metadata": {},
      "source": [
        "You'll be asked to update the following starting code in order to update the model being fit. This will include model parameters, as well as updating the input space.\n",
        "\n",
        "The `fitting_returns_data` function is the main function that we'll run in order to pull results.\n",
        "\n",
        "The functions with an `io_` prefix define input and output variables. The functions with a `'model_` prefix define the model fit that we'll be using.\n",
        "\n",
        "This problem set will ask you to create your own `io_` and `model_` functions in order to test different modeling possibilities, and to determine the importance of these decisions in the model fitting process."
      ]
    },
    {
      "cell_type": "code",
      "execution_count": 3,
      "id": "18326965",
      "metadata": {
        "id": "18326965"
      },
      "outputs": [],
      "source": [
        "# Note: All io_fns and model_fns start with an 'io_' and 'model_' prefix\n",
        "# respectively\n",
        "\n",
        "def fitting_returns_data(data_path,\n",
        "                         io_fn,\n",
        "                         model_fn,\n",
        "                         seed = None,\n",
        "                         print_summary = True):\n",
        "    \"\"\"\n",
        "    Fits data to supplied model and provides returns and alpha estimates.\n",
        "\n",
        "        Parameters:\n",
        "            data_path (str): path to factor data with first column as date\n",
        "                6 factors, and the last column as risk free rate\n",
        "            io_fn (fn): a function to calculate input/output pairs for the\n",
        "                model fit\n",
        "            model_fn (fn): a function that takes in input data, output data,\n",
        "                and training and testing values, and returns the strategy\n",
        "                for each day, and the observed return for each day\n",
        "            seed (int): if given, the seed for the model fit will be set to\n",
        "                this value\n",
        "            print_summary (bool): if True, then the model won't print a summary\n",
        "                of the OLS fit for our strategy return.\n",
        "        Returns:\n",
        "            strat_df (pd.DataFrame): The weights we would give each factor\n",
        "                on each day\n",
        "            return_vector (list): The returns from our strategy on each day\n",
        "            model_OLS (RegressionResultsWrapper): A regression calculating the\n",
        "                alpha for our strategy\n",
        "    \"\"\"\n",
        "    # if given, set the random seed\n",
        "    if seed:\n",
        "        set_seed(seed)\n",
        "\n",
        "    # Load the data into a pandas DataFrame\n",
        "    data = pd.read_csv(data_path)\n",
        "    # Drop date and risk free rate\n",
        "    data = data.iloc[:, 1:7]\n",
        "\n",
        "    # Shift the data by one time step to create input/output pairs\n",
        "    X, y = io_fn(data)\n",
        "\n",
        "    # Split the data into training and validation sets\n",
        "    X_train, X_val, y_train, y_val = train_test_split(X, y, test_size=0.2)\n",
        "\n",
        "    # Fit the model\n",
        "    strat_df, return_vector = model_fn(X, y, X_train, y_train, X_val, y_val)\n",
        "\n",
        "    # Calculate alpha\n",
        "    y_ols = sm.add_constant(y)\n",
        "    model_OLS = sm.OLS(return_vector, y_ols).fit()\n",
        "    if print_summary:\n",
        "        print(model_OLS.summary())\n",
        "\n",
        "    return strat_df, return_vector, model_OLS\n",
        "\n",
        "def set_seed(seed_value):\n",
        "    # Adding a fixed seed from this solution: https://stackoverflow.com/questions/32419510/how-to-get-reproducible-results-in-keras\n",
        "    # 1. Set the `PYTHONHASHSEED` environment variable at a fixed value\n",
        "    os.environ['PYTHONHASHSEED']=str(seed_value)\n",
        "\n",
        "    # 2. Set the `python` built-in pseudo-random generator at a fixed value\n",
        "    random.seed(seed_value)\n",
        "\n",
        "    # 3. Set the `numpy` pseudo-random generator at a fixed value\n",
        "    np.random.seed(seed_value)\n",
        "\n",
        "    # 4. Set the `tensorflow` pseudo-random generator at a fixed value\n",
        "    tf.compat.v1.set_random_seed(seed_value)\n",
        "    return\n",
        "\n",
        "def io_day_1_lag(data):\n",
        "    # Create input output pairs, where the input is the previous day of data\n",
        "    # and the output is the current day of data.\n",
        "    X = data.shift(1).dropna().reset_index(drop=True)\n",
        "    y = data.dropna().iloc[1:,:].reset_index(drop=True)\n",
        "    return X, y\n",
        "\n",
        "def io_day_1_lag_second_order_input(data):\n",
        "    # Create input output pairs where input data includes second order interactions\n",
        "    X, y = io_day_1_lag(data)\n",
        "    cols = X.columns\n",
        "\n",
        "    for i in range(len(cols)):\n",
        "        for j in range(i+1, len(cols)):\n",
        "            col_name = cols[i] + cols[j]\n",
        "            col_values = X[cols[i]] * X[cols[j]]\n",
        "            X[col_name] = col_values\n",
        "    return X, y\n",
        "\n",
        "def model_feed_forward(X, y, X_train, y_train, X_val, y_val):\n",
        "    # Define the neural network model\n",
        "    model = Sequential()\n",
        "    model.add(Dense(32, activation='relu', input_shape=(X.shape[1],)))\n",
        "    model.add(Dense(16, activation='relu'))\n",
        "    model.add(Dense(6, activation='linear'))\n",
        "\n",
        "    # Compile the model\n",
        "    model.compile(loss='mean_squared_error', optimizer='adam')\n",
        "\n",
        "    # Train the model, verbose = 0 means reports aren't printed\n",
        "    # at the end of each epoch\n",
        "    model.fit(X_train, y_train, batch_size=32, epochs=50,\n",
        "              validation_data=(X_val, y_val))\n",
        "\n",
        "    # Make predictions\n",
        "    predictions = model.predict(X)\n",
        "\n",
        "    pred_df = pd.DataFrame(predictions)\n",
        "\n",
        "    return predictions_to_returns(pred_df, y)\n",
        "\n",
        "def predictions_to_returns(pred_df, y):\n",
        "    # Given the predictions of each factor for each day, calculate our\n",
        "    # strategy for each day, and the returns for each day\n",
        "\n",
        "    # Apply our strategy to our predictions\n",
        "    strat_df = pred_df.apply(lambda row : max_predicted_factor_strat(row), axis = 1)\n",
        "\n",
        "    # Calculate our returns\n",
        "    return_vector = np.multiply(strat_df,np.asarray(y)).apply(sum, axis = 1)\n",
        "\n",
        "    return strat_df, return_vector\n",
        "\n",
        "\n",
        "def max_predicted_factor_strat(row):\n",
        "    # For each day, set our strategy to be the factor with\n",
        "    # the highest predicted return\n",
        "    max_pred_return = max(row)\n",
        "    row_list = [x == max_pred_return for x in row]\n",
        "    return pd.Series(row_list)"
      ]
    },
    {
      "cell_type": "markdown",
      "id": "f3a92ff0",
      "metadata": {},
      "source": [
        "# Question 0 - Run the Neural Net and Interpet the alpha"
      ]
    },
    {
      "cell_type": "markdown",
      "id": "765ed3e4",
      "metadata": {
        "id": "765ed3e4"
      },
      "source": [
        "The following code fits a feed-forward neural net on all data, and prints a summary.\n",
        "Run the code and provide an interpretation of the alpha.\n",
        "\n",
        "```\n",
        "fitting_returns_data(\n",
        "    'ff6_factors_19630701_20230131.csv',\n",
        "    io_day_1_lag,\n",
        "    model_feed_forward);\n",
        "```\n",
        "\n",
        "**Note**: The test-train split we're employing in these model fits is faulty. We use data from the future to predict our model, so all results here have some level of overfitting. However, I separately fit the models by only using past data, and we were able to get similar results, so the results still seem robust to the potential overfitting."
      ]
    },
    {
      "cell_type": "markdown",
      "id": "af2f54a2",
      "metadata": {},
      "source": [
        "## Question 0 Solution"
      ]
    },
    {
      "cell_type": "code",
      "execution_count": 12,
      "id": "3f49a61a",
      "metadata": {
        "colab": {
          "base_uri": "https://localhost:8080/"
        },
        "id": "3f49a61a",
        "outputId": "0f6bac5c-b8fd-4caf-dae2-4f4c4f386d55",
        "scrolled": true
      },
      "outputs": [
        {
          "name": "stdout",
          "output_type": "stream",
          "text": [
            "Epoch 1/50\n",
            "\u001b[1m375/375\u001b[0m \u001b[32m━━━━━━━━━━━━━━━━━━━━\u001b[0m\u001b[37m\u001b[0m \u001b[1m1s\u001b[0m 1ms/step - loss: 0.4640 - val_loss: 0.4482\n",
            "Epoch 2/50\n",
            "\u001b[1m375/375\u001b[0m \u001b[32m━━━━━━━━━━━━━━━━━━━━\u001b[0m\u001b[37m\u001b[0m \u001b[1m0s\u001b[0m 608us/step - loss: 0.4371 - val_loss: 0.4460\n",
            "Epoch 3/50\n",
            "\u001b[1m375/375\u001b[0m \u001b[32m━━━━━━━━━━━━━━━━━━━━\u001b[0m\u001b[37m\u001b[0m \u001b[1m0s\u001b[0m 613us/step - loss: 0.4344 - val_loss: 0.4450\n",
            "Epoch 4/50\n",
            "\u001b[1m375/375\u001b[0m \u001b[32m━━━━━━━━━━━━━━━━━━━━\u001b[0m\u001b[37m\u001b[0m \u001b[1m0s\u001b[0m 610us/step - loss: 0.4323 - val_loss: 0.4443\n",
            "Epoch 5/50\n",
            "\u001b[1m375/375\u001b[0m \u001b[32m━━━━━━━━━━━━━━━━━━━━\u001b[0m\u001b[37m\u001b[0m \u001b[1m0s\u001b[0m 599us/step - loss: 0.4308 - val_loss: 0.4441\n",
            "Epoch 6/50\n",
            "\u001b[1m375/375\u001b[0m \u001b[32m━━━━━━━━━━━━━━━━━━━━\u001b[0m\u001b[37m\u001b[0m \u001b[1m0s\u001b[0m 607us/step - loss: 0.4297 - val_loss: 0.4437\n",
            "Epoch 7/50\n",
            "\u001b[1m375/375\u001b[0m \u001b[32m━━━━━━━━━━━━━━━━━━━━\u001b[0m\u001b[37m\u001b[0m \u001b[1m0s\u001b[0m 609us/step - loss: 0.4289 - val_loss: 0.4438\n",
            "Epoch 8/50\n",
            "\u001b[1m375/375\u001b[0m \u001b[32m━━━━━━━━━━━━━━━━━━━━\u001b[0m\u001b[37m\u001b[0m \u001b[1m0s\u001b[0m 627us/step - loss: 0.4281 - val_loss: 0.4439\n",
            "Epoch 9/50\n",
            "\u001b[1m375/375\u001b[0m \u001b[32m━━━━━━━━━━━━━━━━━━━━\u001b[0m\u001b[37m\u001b[0m \u001b[1m0s\u001b[0m 618us/step - loss: 0.4274 - val_loss: 0.4441\n",
            "Epoch 10/50\n",
            "\u001b[1m375/375\u001b[0m \u001b[32m━━━━━━━━━━━━━━━━━━━━\u001b[0m\u001b[37m\u001b[0m \u001b[1m0s\u001b[0m 609us/step - loss: 0.4268 - val_loss: 0.4441\n",
            "Epoch 11/50\n",
            "\u001b[1m375/375\u001b[0m \u001b[32m━━━━━━━━━━━━━━━━━━━━\u001b[0m\u001b[37m\u001b[0m \u001b[1m0s\u001b[0m 616us/step - loss: 0.4262 - val_loss: 0.4442\n",
            "Epoch 12/50\n",
            "\u001b[1m375/375\u001b[0m \u001b[32m━━━━━━━━━━━━━━━━━━━━\u001b[0m\u001b[37m\u001b[0m \u001b[1m0s\u001b[0m 674us/step - loss: 0.4255 - val_loss: 0.4443\n",
            "Epoch 13/50\n",
            "\u001b[1m375/375\u001b[0m \u001b[32m━━━━━━━━━━━━━━━━━━━━\u001b[0m\u001b[37m\u001b[0m \u001b[1m0s\u001b[0m 648us/step - loss: 0.4250 - val_loss: 0.4445\n",
            "Epoch 14/50\n",
            "\u001b[1m375/375\u001b[0m \u001b[32m━━━━━━━━━━━━━━━━━━━━\u001b[0m\u001b[37m\u001b[0m \u001b[1m0s\u001b[0m 634us/step - loss: 0.4243 - val_loss: 0.4443\n",
            "Epoch 15/50\n",
            "\u001b[1m375/375\u001b[0m \u001b[32m━━━━━━━━━━━━━━━━━━━━\u001b[0m\u001b[37m\u001b[0m \u001b[1m0s\u001b[0m 624us/step - loss: 0.4239 - val_loss: 0.4443\n",
            "Epoch 16/50\n",
            "\u001b[1m375/375\u001b[0m \u001b[32m━━━━━━━━━━━━━━━━━━━━\u001b[0m\u001b[37m\u001b[0m \u001b[1m0s\u001b[0m 615us/step - loss: 0.4236 - val_loss: 0.4445\n",
            "Epoch 17/50\n",
            "\u001b[1m375/375\u001b[0m \u001b[32m━━━━━━━━━━━━━━━━━━━━\u001b[0m\u001b[37m\u001b[0m \u001b[1m0s\u001b[0m 627us/step - loss: 0.4230 - val_loss: 0.4445\n",
            "Epoch 18/50\n",
            "\u001b[1m375/375\u001b[0m \u001b[32m━━━━━━━━━━━━━━━━━━━━\u001b[0m\u001b[37m\u001b[0m \u001b[1m0s\u001b[0m 676us/step - loss: 0.4225 - val_loss: 0.4447\n",
            "Epoch 19/50\n",
            "\u001b[1m375/375\u001b[0m \u001b[32m━━━━━━━━━━━━━━━━━━━━\u001b[0m\u001b[37m\u001b[0m \u001b[1m0s\u001b[0m 656us/step - loss: 0.4221 - val_loss: 0.4449\n",
            "Epoch 20/50\n",
            "\u001b[1m375/375\u001b[0m \u001b[32m━━━━━━━━━━━━━━━━━━━━\u001b[0m\u001b[37m\u001b[0m \u001b[1m0s\u001b[0m 747us/step - loss: 0.4216 - val_loss: 0.4452\n",
            "Epoch 21/50\n",
            "\u001b[1m375/375\u001b[0m \u001b[32m━━━━━━━━━━━━━━━━━━━━\u001b[0m\u001b[37m\u001b[0m \u001b[1m0s\u001b[0m 640us/step - loss: 0.4214 - val_loss: 0.4451\n",
            "Epoch 22/50\n",
            "\u001b[1m375/375\u001b[0m \u001b[32m━━━━━━━━━━━━━━━━━━━━\u001b[0m\u001b[37m\u001b[0m \u001b[1m0s\u001b[0m 641us/step - loss: 0.4210 - val_loss: 0.4450\n",
            "Epoch 23/50\n",
            "\u001b[1m375/375\u001b[0m \u001b[32m━━━━━━━━━━━━━━━━━━━━\u001b[0m\u001b[37m\u001b[0m \u001b[1m0s\u001b[0m 775us/step - loss: 0.4207 - val_loss: 0.4455\n",
            "Epoch 24/50\n",
            "\u001b[1m375/375\u001b[0m \u001b[32m━━━━━━━━━━━━━━━━━━━━\u001b[0m\u001b[37m\u001b[0m \u001b[1m0s\u001b[0m 638us/step - loss: 0.4203 - val_loss: 0.4452\n",
            "Epoch 25/50\n",
            "\u001b[1m375/375\u001b[0m \u001b[32m━━━━━━━━━━━━━━━━━━━━\u001b[0m\u001b[37m\u001b[0m \u001b[1m0s\u001b[0m 631us/step - loss: 0.4201 - val_loss: 0.4454\n",
            "Epoch 26/50\n",
            "\u001b[1m375/375\u001b[0m \u001b[32m━━━━━━━━━━━━━━━━━━━━\u001b[0m\u001b[37m\u001b[0m \u001b[1m0s\u001b[0m 616us/step - loss: 0.4195 - val_loss: 0.4455\n",
            "Epoch 27/50\n",
            "\u001b[1m375/375\u001b[0m \u001b[32m━━━━━━━━━━━━━━━━━━━━\u001b[0m\u001b[37m\u001b[0m \u001b[1m0s\u001b[0m 599us/step - loss: 0.4194 - val_loss: 0.4460\n",
            "Epoch 28/50\n",
            "\u001b[1m375/375\u001b[0m \u001b[32m━━━━━━━━━━━━━━━━━━━━\u001b[0m\u001b[37m\u001b[0m \u001b[1m0s\u001b[0m 606us/step - loss: 0.4189 - val_loss: 0.4459\n",
            "Epoch 29/50\n",
            "\u001b[1m375/375\u001b[0m \u001b[32m━━━━━━━━━━━━━━━━━━━━\u001b[0m\u001b[37m\u001b[0m \u001b[1m0s\u001b[0m 594us/step - loss: 0.4186 - val_loss: 0.4463\n",
            "Epoch 30/50\n",
            "\u001b[1m375/375\u001b[0m \u001b[32m━━━━━━━━━━━━━━━━━━━━\u001b[0m\u001b[37m\u001b[0m \u001b[1m0s\u001b[0m 748us/step - loss: 0.4183 - val_loss: 0.4464\n",
            "Epoch 31/50\n",
            "\u001b[1m375/375\u001b[0m \u001b[32m━━━━━━━━━━━━━━━━━━━━\u001b[0m\u001b[37m\u001b[0m \u001b[1m0s\u001b[0m 653us/step - loss: 0.4181 - val_loss: 0.4463\n",
            "Epoch 32/50\n",
            "\u001b[1m375/375\u001b[0m \u001b[32m━━━━━━━━━━━━━━━━━━━━\u001b[0m\u001b[37m\u001b[0m \u001b[1m0s\u001b[0m 603us/step - loss: 0.4176 - val_loss: 0.4467\n",
            "Epoch 33/50\n",
            "\u001b[1m375/375\u001b[0m \u001b[32m━━━━━━━━━━━━━━━━━━━━\u001b[0m\u001b[37m\u001b[0m \u001b[1m0s\u001b[0m 615us/step - loss: 0.4172 - val_loss: 0.4468\n",
            "Epoch 34/50\n",
            "\u001b[1m375/375\u001b[0m \u001b[32m━━━━━━━━━━━━━━━━━━━━\u001b[0m\u001b[37m\u001b[0m \u001b[1m0s\u001b[0m 651us/step - loss: 0.4171 - val_loss: 0.4469\n",
            "Epoch 35/50\n",
            "\u001b[1m375/375\u001b[0m \u001b[32m━━━━━━━━━━━━━━━━━━━━\u001b[0m\u001b[37m\u001b[0m \u001b[1m0s\u001b[0m 794us/step - loss: 0.4167 - val_loss: 0.4474\n",
            "Epoch 36/50\n",
            "\u001b[1m375/375\u001b[0m \u001b[32m━━━━━━━━━━━━━━━━━━━━\u001b[0m\u001b[37m\u001b[0m \u001b[1m0s\u001b[0m 666us/step - loss: 0.4165 - val_loss: 0.4477\n",
            "Epoch 37/50\n",
            "\u001b[1m375/375\u001b[0m \u001b[32m━━━━━━━━━━━━━━━━━━━━\u001b[0m\u001b[37m\u001b[0m \u001b[1m0s\u001b[0m 641us/step - loss: 0.4161 - val_loss: 0.4478\n",
            "Epoch 38/50\n",
            "\u001b[1m375/375\u001b[0m \u001b[32m━━━━━━━━━━━━━━━━━━━━\u001b[0m\u001b[37m\u001b[0m \u001b[1m0s\u001b[0m 611us/step - loss: 0.4158 - val_loss: 0.4478\n",
            "Epoch 39/50\n",
            "\u001b[1m375/375\u001b[0m \u001b[32m━━━━━━━━━━━━━━━━━━━━\u001b[0m\u001b[37m\u001b[0m \u001b[1m0s\u001b[0m 771us/step - loss: 0.4154 - val_loss: 0.4478\n",
            "Epoch 40/50\n",
            "\u001b[1m375/375\u001b[0m \u001b[32m━━━━━━━━━━━━━━━━━━━━\u001b[0m\u001b[37m\u001b[0m \u001b[1m0s\u001b[0m 636us/step - loss: 0.4152 - val_loss: 0.4480\n",
            "Epoch 41/50\n",
            "\u001b[1m375/375\u001b[0m \u001b[32m━━━━━━━━━━━━━━━━━━━━\u001b[0m\u001b[37m\u001b[0m \u001b[1m0s\u001b[0m 612us/step - loss: 0.4149 - val_loss: 0.4478\n",
            "Epoch 42/50\n",
            "\u001b[1m375/375\u001b[0m \u001b[32m━━━━━━━━━━━━━━━━━━━━\u001b[0m\u001b[37m\u001b[0m \u001b[1m0s\u001b[0m 662us/step - loss: 0.4146 - val_loss: 0.4484\n",
            "Epoch 43/50\n",
            "\u001b[1m375/375\u001b[0m \u001b[32m━━━━━━━━━━━━━━━━━━━━\u001b[0m\u001b[37m\u001b[0m \u001b[1m0s\u001b[0m 748us/step - loss: 0.4144 - val_loss: 0.4483\n",
            "Epoch 44/50\n",
            "\u001b[1m375/375\u001b[0m \u001b[32m━━━━━━━━━━━━━━━━━━━━\u001b[0m\u001b[37m\u001b[0m \u001b[1m0s\u001b[0m 628us/step - loss: 0.4140 - val_loss: 0.4482\n",
            "Epoch 45/50\n",
            "\u001b[1m375/375\u001b[0m \u001b[32m━━━━━━━━━━━━━━━━━━━━\u001b[0m\u001b[37m\u001b[0m \u001b[1m0s\u001b[0m 608us/step - loss: 0.4139 - val_loss: 0.4485\n",
            "Epoch 46/50\n",
            "\u001b[1m375/375\u001b[0m \u001b[32m━━━━━━━━━━━━━━━━━━━━\u001b[0m\u001b[37m\u001b[0m \u001b[1m0s\u001b[0m 654us/step - loss: 0.4135 - val_loss: 0.4487\n",
            "Epoch 47/50\n",
            "\u001b[1m375/375\u001b[0m \u001b[32m━━━━━━━━━━━━━━━━━━━━\u001b[0m\u001b[37m\u001b[0m \u001b[1m0s\u001b[0m 751us/step - loss: 0.4133 - val_loss: 0.4490\n",
            "Epoch 48/50\n",
            "\u001b[1m375/375\u001b[0m \u001b[32m━━━━━━━━━━━━━━━━━━━━\u001b[0m\u001b[37m\u001b[0m \u001b[1m0s\u001b[0m 620us/step - loss: 0.4133 - val_loss: 0.4487\n",
            "Epoch 49/50\n",
            "\u001b[1m375/375\u001b[0m \u001b[32m━━━━━━━━━━━━━━━━━━━━\u001b[0m\u001b[37m\u001b[0m \u001b[1m0s\u001b[0m 631us/step - loss: 0.4129 - val_loss: 0.4490\n",
            "Epoch 50/50\n",
            "\u001b[1m375/375\u001b[0m \u001b[32m━━━━━━━━━━━━━━━━━━━━\u001b[0m\u001b[37m\u001b[0m \u001b[1m0s\u001b[0m 769us/step - loss: 0.4124 - val_loss: 0.4488\n",
            "\u001b[1m469/469\u001b[0m \u001b[32m━━━━━━━━━━━━━━━━━━━━\u001b[0m\u001b[37m\u001b[0m \u001b[1m0s\u001b[0m 299us/step\n",
            "                            OLS Regression Results                            \n",
            "==============================================================================\n",
            "Dep. Variable:                      y   R-squared:                       0.132\n",
            "Model:                            OLS   Adj. R-squared:                  0.132\n",
            "Method:                 Least Squares   F-statistic:                     380.1\n",
            "Date:                Sun, 18 May 2025   Prob (F-statistic):               0.00\n",
            "Time:                        21:57:55   Log-Likelihood:                -16208.\n",
            "No. Observations:               14998   AIC:                         3.243e+04\n",
            "Df Residuals:                   14991   BIC:                         3.248e+04\n",
            "Df Model:                           6                                         \n",
            "Covariance Type:            nonrobust                                         \n",
            "==============================================================================\n",
            "                 coef    std err          t      P>|t|      [0.025      0.975]\n",
            "------------------------------------------------------------------------------\n",
            "const          0.1305      0.006     22.323      0.000       0.119       0.142\n",
            "Mkt-RF         0.2312      0.006     36.925      0.000       0.219       0.243\n",
            "SMB            0.0331      0.011      2.904      0.004       0.011       0.055\n",
            "HML            0.2238      0.013     17.045      0.000       0.198       0.249\n",
            "RMW            0.0976      0.016      6.214      0.000       0.067       0.128\n",
            "CMA            0.0160      0.020      0.791      0.429      -0.024       0.055\n",
            "MOM            0.2663      0.008     32.622      0.000       0.250       0.282\n",
            "==============================================================================\n",
            "Omnibus:                     4226.566   Durbin-Watson:                   1.956\n",
            "Prob(Omnibus):                  0.000   Jarque-Bera (JB):           262556.837\n",
            "Skew:                           0.488   Prob(JB):                         0.00\n",
            "Kurtosis:                      23.474   Cond. No.                         4.01\n",
            "==============================================================================\n",
            "\n",
            "Notes:\n",
            "[1] Standard Errors assume that the covariance matrix of the errors is correctly specified.\n"
          ]
        }
      ],
      "source": [
        "# Calculate returns and alphas using feed forward neural net model\n",
        "fitting_returns_data(\n",
        "    'ff6_factors_19630701_20230131.csv',\n",
        "    io_day_1_lag,\n",
        "    model_feed_forward,\n",
        "    SEED);"
      ]
    },
    {
      "cell_type": "markdown",
      "id": "7e3ff420",
      "metadata": {},
      "source": [
        "TODO: Provide an interpretation of the alpha 0.12 with p-value 0.000. \n",
        "\n",
        "The estimated intercept (alpha) is 0.1305, or 13.05%. This represents the average excess return of the portfolio when all factor returns are zero (i.e. the part of the return unexplained by the included factors). The p-value associated with alpha is 0, obviously well below the significance threshold. This implies that the alpha is statistically significant, and we can reject the null hypothesis. This suggests the portfolio may generate abnormal returns not explained by the six-factor model, indicating potential skill, strategy edge, or model misspecification."
      ]
    },
    {
      "cell_type": "markdown",
      "id": "605bb44e",
      "metadata": {},
      "source": [
        "# Question 1 - Comparing Neural Net to OLS"
      ]
    },
    {
      "cell_type": "markdown",
      "id": "b13f323f",
      "metadata": {},
      "source": [
        "## 1ai [20 points] Set a linear activation function"
      ]
    },
    {
      "cell_type": "markdown",
      "id": "d26d6dd8",
      "metadata": {
        "id": "d26d6dd8"
      },
      "source": [
        "For the feed-forward neural net that is fit above, the `model_feed_forward` function sets up activation across hidden layers with the following code:\n",
        "\n",
        "```\n",
        "model = Sequential()\n",
        "model.add(Dense(32, activation='relu', input_shape=(6,)))\n",
        "model.add(Dense(16, activation='relu'))\n",
        "model.add(Dense(6, activation='linear'))\n",
        "```\n",
        "\n",
        "Write a new function called `model_feed_forward_linear`, which changes the `'relu'` parameter to `'linear'`.\n",
        "\n",
        "Calculate reults for the neural net with linear activation. How does this compare to the ReLU activation from Question 0?"
      ]
    },
    {
      "cell_type": "markdown",
      "id": "886ac78c",
      "metadata": {},
      "source": [
        "### Solution 1ai"
      ]
    },
    {
      "cell_type": "code",
      "execution_count": 5,
      "id": "c1106235",
      "metadata": {
        "colab": {
          "base_uri": "https://localhost:8080/"
        },
        "id": "c1106235",
        "outputId": "17fa6949-ff7c-4192-9949-18fb199e8e6f"
      },
      "outputs": [
        {
          "name": "stdout",
          "output_type": "stream",
          "text": [
            "\u001b[1m469/469\u001b[0m \u001b[32m━━━━━━━━━━━━━━━━━━━━\u001b[0m\u001b[37m\u001b[0m \u001b[1m0s\u001b[0m 272us/step\n",
            "                            OLS Regression Results                            \n",
            "==============================================================================\n",
            "Dep. Variable:                      y   R-squared:                       0.134\n",
            "Model:                            OLS   Adj. R-squared:                  0.134\n",
            "Method:                 Least Squares   F-statistic:                     388.2\n",
            "Date:                Sun, 18 May 2025   Prob (F-statistic):               0.00\n",
            "Time:                        21:51:12   Log-Likelihood:                -15414.\n",
            "No. Observations:               14998   AIC:                         3.084e+04\n",
            "Df Residuals:                   14991   BIC:                         3.090e+04\n",
            "Df Model:                           6                                         \n",
            "Covariance Type:            nonrobust                                         \n",
            "==============================================================================\n",
            "                 coef    std err          t      P>|t|      [0.025      0.975]\n",
            "------------------------------------------------------------------------------\n",
            "const          0.0874      0.006     15.765      0.000       0.077       0.098\n",
            "Mkt-RF         0.1491      0.006     25.115      0.000       0.138       0.161\n",
            "SMB            0.1603      0.011     14.826      0.000       0.139       0.182\n",
            "HML            0.1811      0.012     14.544      0.000       0.157       0.205\n",
            "RMW            0.1454      0.015      9.761      0.000       0.116       0.175\n",
            "CMA            0.1670      0.019      8.728      0.000       0.130       0.205\n",
            "MOM            0.2921      0.008     37.717      0.000       0.277       0.307\n",
            "==============================================================================\n",
            "Omnibus:                     3883.732   Durbin-Watson:                   2.000\n",
            "Prob(Omnibus):                  0.000   Jarque-Bera (JB):           235095.780\n",
            "Skew:                          -0.341   Prob(JB):                         0.00\n",
            "Kurtosis:                      22.384   Cond. No.                         4.01\n",
            "==============================================================================\n",
            "\n",
            "Notes:\n",
            "[1] Standard Errors assume that the covariance matrix of the errors is correctly specified.\n"
          ]
        }
      ],
      "source": [
        "# Define linear feed-forward neural net based on model_feed_forward\n",
        "def model_feed_forward_linear(X, y, X_train, y_train, X_val, y_val):\n",
        "    # exactly the same as the ReLU model, but all activations = 'linear'\n",
        "    model = Sequential()\n",
        "    model.add(Dense(32, activation='linear', input_shape=(X.shape[1],)))\n",
        "    model.add(Dense(16, activation='linear'))\n",
        "    model.add(Dense(6, activation='linear'))\n",
        "\n",
        "    model.compile(loss='mean_squared_error', optimizer='adam')\n",
        "    model.fit(X_train, y_train,\n",
        "              batch_size=32,\n",
        "              epochs=50,\n",
        "              validation_data=(X_val, y_val),\n",
        "              verbose=0) # silence the Keras output\n",
        "\n",
        "    predictions = model.predict(X)\n",
        "    pred_df = pd.DataFrame(predictions, columns=y.columns)\n",
        "    return predictions_to_returns(pred_df, y)\n",
        "\n",
        "# Calculate returns and alphas from linear neural net\n",
        "fitting_returns_data(\n",
        "    'ff6_factors_19630701_20230131.csv',\n",
        "    io_day_1_lag,\n",
        "    model_feed_forward_linear,\n",
        "    SEED);"
      ]
    },
    {
      "cell_type": "markdown",
      "id": "34378484",
      "metadata": {},
      "source": [
        "TODO: How does this compare to the ReLU activation from Question 0? maybe say smth along the lines of: Because a stack of purely linear layers is mathematically just one big linear map, the network with activation='linear' essentially learns the same mapping as an OLS on the lagged factors—and so produces very nearly the same alpha and $R^2$. By contrast, the ReLU‐based net can carve out piecewise‐linear (i.e. non‐linear) relationships and so picks up the extra few basis points of alpha you saw in Question 0.\n",
        "\n",
        "The linear model here produces an alpha of 0.0874 and an R^2 of 0.134, which is very close to the results from an MLP using linear activation. This similarity is due to  a network with activation='linear' and stacked dense layers which iare mathematically equivalent to a single linear transformation; it cannot capture any nonlinear interactions or thresholds. By contrast, the ReLU-based neural network introduces non-linearities and can learn piecewise linear functions, enabling it to uncover more complex relationships in the data. This allows it to extract additional alpha by fitting nonlinear patterns the OLS model cannot, potentially explaining the higher alpha or better R2R2 seen in the ReLU model in Question 0."
      ]
    },
    {
      "cell_type": "markdown",
      "id": "43dd9549",
      "metadata": {},
      "source": [
        "## 1aii [10 points] Compare with linear model"
      ]
    },
    {
      "cell_type": "markdown",
      "id": "XzogcR_otKvx",
      "metadata": {
        "id": "XzogcR_otKvx"
      },
      "source": [
        "The following code defines a function called `model_linear_fit`, which fits a linear model on y_train and X_train and outputs the predicted return given `X`, called `pred_df`. The function then calculates the  returns of the linear model by running `predictions_to_returns(pred_df, y)`.\n",
        "\n",
        "Since the neural net is only fitting on linear relationships, we should see similar results across the linear neural net and the linear OLS model here.\n",
        "\n",
        "Calculate reults for the linear model below. How does the alpha compare to the linear neural net?  "
      ]
    },
    {
      "cell_type": "markdown",
      "id": "234b1992",
      "metadata": {},
      "source": [
        "### Solution 1aii"
      ]
    },
    {
      "cell_type": "code",
      "execution_count": 6,
      "id": "09d97083",
      "metadata": {
        "colab": {
          "base_uri": "https://localhost:8080/"
        },
        "id": "09d97083",
        "outputId": "b4e476d0-0212-4f38-a71c-0eb7f81d7b46",
        "scrolled": true
      },
      "outputs": [
        {
          "name": "stdout",
          "output_type": "stream",
          "text": [
            "                            OLS Regression Results                            \n",
            "==============================================================================\n",
            "Dep. Variable:                      y   R-squared:                       0.127\n",
            "Model:                            OLS   Adj. R-squared:                  0.127\n",
            "Method:                 Least Squares   F-statistic:                     363.2\n",
            "Date:                Sun, 18 May 2025   Prob (F-statistic):               0.00\n",
            "Time:                        21:51:13   Log-Likelihood:                -15513.\n",
            "No. Observations:               14998   AIC:                         3.104e+04\n",
            "Df Residuals:                   14991   BIC:                         3.109e+04\n",
            "Df Model:                           6                                         \n",
            "Covariance Type:            nonrobust                                         \n",
            "==============================================================================\n",
            "                 coef    std err          t      P>|t|      [0.025      0.975]\n",
            "------------------------------------------------------------------------------\n",
            "const          0.0904      0.006     16.202      0.000       0.079       0.101\n",
            "Mkt-RF         0.1371      0.006     22.937      0.000       0.125       0.149\n",
            "SMB            0.1647      0.011     15.134      0.000       0.143       0.186\n",
            "HML            0.2111      0.013     16.842      0.000       0.187       0.236\n",
            "RMW            0.1475      0.015      9.833      0.000       0.118       0.177\n",
            "CMA            0.1534      0.019      7.967      0.000       0.116       0.191\n",
            "MOM            0.2758      0.008     35.382      0.000       0.261       0.291\n",
            "==============================================================================\n",
            "Omnibus:                     3960.117   Durbin-Watson:                   2.005\n",
            "Prob(Omnibus):                  0.000   Jarque-Bera (JB):           262916.099\n",
            "Skew:                          -0.336   Prob(JB):                         0.00\n",
            "Kurtosis:                      23.501   Cond. No.                         4.01\n",
            "==============================================================================\n",
            "\n",
            "Notes:\n",
            "[1] Standard Errors assume that the covariance matrix of the errors is correctly specified.\n"
          ]
        }
      ],
      "source": [
        "# Define linear OLS model\n",
        "## Linear Model Fit\n",
        "def model_linear_fit(X, y, X_train, y_train, X_val, y_val):\n",
        "    model_OLS = sm.OLS(y_train, X_train).fit()\n",
        "    # Make predictions\n",
        "    predictions = model_OLS.predict(X)\n",
        "\n",
        "    pred_df = pd.DataFrame(predictions)\n",
        "\n",
        "    return predictions_to_returns(pred_df, y)\n",
        "\n",
        "# Calculate returns and alphas using linear OLS model\n",
        "fitting_returns_data(\n",
        "    'ff6_factors_19630701_20230131.csv',\n",
        "    io_day_1_lag,\n",
        "    model_linear_fit,\n",
        "    SEED);"
      ]
    },
    {
      "cell_type": "markdown",
      "id": "27c61384",
      "metadata": {},
      "source": [
        "TODO: How does the alpha (0.09) compare to the linear neural net?  \n",
        "\n",
        "The alpha of 0.0904 in this OLS regression closely matches what we expect from a linear neural network (i.e. a network with no non-linear activations). That’s because a purely linear neural net is functionally identical to this OLS regression: it just learns a weighted sum of inputs. This alpha should be almost identical to the linear neural network's output from Question 0. It also confirms that both models capture only linear relationships between factor exposures and reutnss by their mathematical structure. Any improvement beyond this alpha such as higher alpha from a ReLU-based network would suggest that nonlinear structures exist in the data and are being exloited."
      ]
    },
    {
      "cell_type": "markdown",
      "id": "fc378920",
      "metadata": {},
      "source": [
        "## 1b [20 points] Include Interaction Terms"
      ]
    },
    {
      "cell_type": "markdown",
      "id": "746c7ff9",
      "metadata": {
        "id": "746c7ff9"
      },
      "source": [
        "Linear models don't account for any interaction effects. In order to account for an interaction we can add input variables that give the product of factor returns on each day. This would be analogous to adding a interaction term to a linear model.\n",
        "\n",
        "Using the io_ function `io_day_1_lag_second_order_input`, and your `model_linear_fit` function, calculate returns while including second order inputs.\n",
        "\n",
        "Write a new io_ function `io_day_lag_third_order_input`, to also include third order fits in your input data.\n",
        "\n",
        "How do these models compare to the ReLU alpha?"
      ]
    },
    {
      "cell_type": "markdown",
      "id": "d95e9dea",
      "metadata": {},
      "source": [
        "### Solution 1b"
      ]
    },
    {
      "cell_type": "code",
      "execution_count": 7,
      "id": "4e2921ed",
      "metadata": {
        "colab": {
          "base_uri": "https://localhost:8080/"
        },
        "id": "4e2921ed",
        "outputId": "59dc011b-4959-4d57-ac44-632dc2dfd303",
        "scrolled": true
      },
      "outputs": [
        {
          "name": "stdout",
          "output_type": "stream",
          "text": [
            "                            OLS Regression Results                            \n",
            "==============================================================================\n",
            "Dep. Variable:                      y   R-squared:                       0.164\n",
            "Model:                            OLS   Adj. R-squared:                  0.163\n",
            "Method:                 Least Squares   F-statistic:                     489.2\n",
            "Date:                Sun, 18 May 2025   Prob (F-statistic):               0.00\n",
            "Time:                        21:51:14   Log-Likelihood:                -16116.\n",
            "No. Observations:               14998   AIC:                         3.225e+04\n",
            "Df Residuals:                   14991   BIC:                         3.230e+04\n",
            "Df Model:                           6                                         \n",
            "Covariance Type:            nonrobust                                         \n",
            "==============================================================================\n",
            "                 coef    std err          t      P>|t|      [0.025      0.975]\n",
            "------------------------------------------------------------------------------\n",
            "const          0.0965      0.006     16.615      0.000       0.085       0.108\n",
            "Mkt-RF         0.2727      0.006     43.824      0.000       0.261       0.285\n",
            "SMB            0.1154      0.011     10.188      0.000       0.093       0.138\n",
            "HML            0.2557      0.013     19.601      0.000       0.230       0.281\n",
            "RMW            0.1325      0.016      8.485      0.000       0.102       0.163\n",
            "CMA            0.1257      0.020      6.270      0.000       0.086       0.165\n",
            "MOM            0.2588      0.008     31.892      0.000       0.243       0.275\n",
            "==============================================================================\n",
            "Omnibus:                     3804.967   Durbin-Watson:                   2.039\n",
            "Prob(Omnibus):                  0.000   Jarque-Bera (JB):           304893.099\n",
            "Skew:                          -0.010   Prob(JB):                         0.00\n",
            "Kurtosis:                      25.088   Cond. No.                         4.01\n",
            "==============================================================================\n",
            "\n",
            "Notes:\n",
            "[1] Standard Errors assume that the covariance matrix of the errors is correctly specified.\n"
          ]
        }
      ],
      "source": [
        "# Calculate returns and alphas using second order interactions\n",
        "fitting_returns_data(\n",
        "    'ff6_factors_19630701_20230131.csv',\n",
        "    io_day_1_lag_second_order_input,\n",
        "    model_linear_fit,\n",
        "    SEED);"
      ]
    },
    {
      "cell_type": "code",
      "execution_count": 8,
      "id": "cd49b62a",
      "metadata": {
        "colab": {
          "base_uri": "https://localhost:8080/"
        },
        "id": "cd49b62a",
        "outputId": "7b8b587a-3f68-4b88-8a40-298416a1bd0e",
        "scrolled": false
      },
      "outputs": [
        {
          "name": "stdout",
          "output_type": "stream",
          "text": [
            "                            OLS Regression Results                            \n",
            "==============================================================================\n",
            "Dep. Variable:                      y   R-squared:                       0.129\n",
            "Model:                            OLS   Adj. R-squared:                  0.129\n",
            "Method:                 Least Squares   F-statistic:                     370.6\n",
            "Date:                Sun, 18 May 2025   Prob (F-statistic):               0.00\n",
            "Time:                        21:51:15   Log-Likelihood:                -16006.\n",
            "No. Observations:               14998   AIC:                         3.203e+04\n",
            "Df Residuals:                   14991   BIC:                         3.208e+04\n",
            "Df Model:                           6                                         \n",
            "Covariance Type:            nonrobust                                         \n",
            "==============================================================================\n",
            "                 coef    std err          t      P>|t|      [0.025      0.975]\n",
            "------------------------------------------------------------------------------\n",
            "const          0.1048      0.006     18.181      0.000       0.094       0.116\n",
            "Mkt-RF         0.2072      0.006     33.541      0.000       0.195       0.219\n",
            "SMB            0.0435      0.011      3.870      0.000       0.021       0.066\n",
            "HML            0.2339      0.013     18.057      0.000       0.208       0.259\n",
            "RMW            0.1247      0.015      8.049      0.000       0.094       0.155\n",
            "CMA            0.0957      0.020      4.806      0.000       0.057       0.135\n",
            "MOM            0.2707      0.008     33.608      0.000       0.255       0.287\n",
            "==============================================================================\n",
            "Omnibus:                     3962.281   Durbin-Watson:                   1.926\n",
            "Prob(Omnibus):                  0.000   Jarque-Bera (JB):           326476.973\n",
            "Skew:                           0.209   Prob(JB):                         0.00\n",
            "Kurtosis:                      25.853   Cond. No.                         4.01\n",
            "==============================================================================\n",
            "\n",
            "Notes:\n",
            "[1] Standard Errors assume that the covariance matrix of the errors is correctly specified.\n"
          ]
        }
      ],
      "source": [
        "# Define function for calculating third order interactions based on \n",
        "# io_day_1_lag_second_order_input\n",
        "def io_day_lag_third_order_input(data):\n",
        "    # start with first‐ and second‐order terms\n",
        "    X, y = io_day_1_lag_second_order_input(data)\n",
        "    # grab the original lagged six factors\n",
        "    X1, _ = io_day_1_lag(data)\n",
        "    cols = X1.columns.tolist()\n",
        "    # build every third‐order interaction among the six factors\n",
        "    for i in range(len(cols)):\n",
        "        for j in range(i+1, len(cols)):\n",
        "            for k in range(j+1, len(cols)):\n",
        "                col_name = cols[i] + cols[j] + cols[k]\n",
        "                X[col_name] = X1[cols[i]] * X1[cols[j]] * X1[cols[k]]\n",
        "    return X, y\n",
        "\n",
        "# Calculate returns and alphas using third order interactions\n",
        "fitting_returns_data(\n",
        "    'ff6_factors_19630701_20230131.csv',\n",
        "    io_day_lag_third_order_input,\n",
        "    model_linear_fit,\n",
        "    SEED);"
      ]
    },
    {
      "cell_type": "code",
      "execution_count": 9,
      "id": "a5f6501a",
      "metadata": {},
      "outputs": [
        {
          "name": "stdout",
          "output_type": "stream",
          "text": [
            "                            OLS Regression Results                            \n",
            "==============================================================================\n",
            "Dep. Variable:                      y   R-squared:                       0.120\n",
            "Model:                            OLS   Adj. R-squared:                  0.120\n",
            "Method:                 Least Squares   F-statistic:                     340.7\n",
            "Date:                Sun, 18 May 2025   Prob (F-statistic):               0.00\n",
            "Time:                        21:51:16   Log-Likelihood:                -16045.\n",
            "No. Observations:               14998   AIC:                         3.210e+04\n",
            "Df Residuals:                   14991   BIC:                         3.216e+04\n",
            "Df Model:                           6                                         \n",
            "Covariance Type:            nonrobust                                         \n",
            "==============================================================================\n",
            "                 coef    std err          t      P>|t|      [0.025      0.975]\n",
            "------------------------------------------------------------------------------\n",
            "const          0.1240      0.006     21.447      0.000       0.113       0.135\n",
            "Mkt-RF         0.1922      0.006     31.031      0.000       0.180       0.204\n",
            "SMB            0.0399      0.011      3.536      0.000       0.018       0.062\n",
            "HML            0.1763      0.013     13.579      0.000       0.151       0.202\n",
            "RMW            0.1619      0.016     10.419      0.000       0.131       0.192\n",
            "CMA            0.0831      0.020      4.165      0.000       0.044       0.122\n",
            "MOM            0.2760      0.008     34.172      0.000       0.260       0.292\n",
            "==============================================================================\n",
            "Omnibus:                     4135.930   Durbin-Watson:                   1.884\n",
            "Prob(Omnibus):                  0.000   Jarque-Bera (JB):           268573.934\n",
            "Skew:                           0.431   Prob(JB):                         0.00\n",
            "Kurtosis:                      23.713   Cond. No.                         4.01\n",
            "==============================================================================\n",
            "\n",
            "Notes:\n",
            "[1] Standard Errors assume that the covariance matrix of the errors is correctly specified.\n"
          ]
        }
      ],
      "source": [
        "# Define function for calculating fourth order interactions based on \n",
        "# io_day_1_lag_second_order_input; closer to sanity checks\n",
        "def io_day_lag_fourth_order_input(data):\n",
        "    # start with 1st‐ and 2nd‐order terms\n",
        "    X, y = io_day_1_lag_second_order_input(data)\n",
        "    cols = X.columns\n",
        "    # now add every pairwise product among these columns\n",
        "    for i in range(len(cols)):\n",
        "        for j in range(i+1, len(cols)):\n",
        "            col_name = cols[i] + cols[j]\n",
        "            X[col_name] = X[cols[i]] * X[cols[j]]\n",
        "    return X, y\n",
        "\n",
        "# Calculate returns and alphas using fourth order interactions\n",
        "fitting_returns_data(\n",
        "    'ff6_factors_19630701_20230131.csv',\n",
        "    io_day_lag_fourth_order_input,\n",
        "    model_linear_fit,\n",
        "    seed=SEED\n",
        ");"
      ]
    },
    {
      "cell_type": "markdown",
      "id": "a0741b57",
      "metadata": {},
      "source": [
        "TODO: How do these models compare to the ReLU alpha? compare the alphas and their respective p-values.\n",
        "\n",
        "The OLS model produces a statistically significant alpha of 0.124 (p = 0.000), indicating excess returns not explained by standard linear factor exposures. In contrast, the ReLU-based neural network typically yields a higher alpha by capturing nonlinear patterns that OLS cannot. While OLS provides formal statistical inference (like p-values), neural nets rely on validation performance to assess robustness. Overall, ReLU models may uncover more alpha, but OLS results are more interpretable and statistically grounded.\n"
      ]
    },
    {
      "cell_type": "markdown",
      "id": "5c89a4b5",
      "metadata": {},
      "source": [
        "# Question 2 - Adding Time Lag Parameters"
      ]
    },
    {
      "cell_type": "markdown",
      "id": "909c7163",
      "metadata": {},
      "source": [
        "## 2 [25 points] Lag Time Parameters"
      ]
    },
    {
      "cell_type": "markdown",
      "id": "b1c46887",
      "metadata": {
        "id": "b1c46887"
      },
      "source": [
        "Our current neural net only uses the past 1 day of data. For time series data, including more lag days can be useful. For example, if a factor return is high for 2 consecutive days, that may be more informative than just knowing that the return was only high for the previous day.\n",
        "\n",
        "In this question, we will simply add a new column to our input data for each lagged data. This is analogous to an AutoRegressive Model, which is a popular financial engineering tool, [see this textbook](https://link.springer.com/book/10.1007/978-1-4939-2614-5). In the Neural Net literature, a Recurrent Neural Net is a common tool for more directly accounting for time lagged data directly in the neural net architecture, but the lagged model gets us a good amount of the way there!\n",
        "\n",
        "Starting from the `io_day_1_lag` function write an `io_day_5_lag` function, which adds to the input dataframe 5 days of lagged data per factor. This will mean your input data will now have 6*5 = 30 columns instead of 6 columns.\n",
        "\n",
        "When complete, run the following and compare results to the original ReLU model from Question 0. How do the results compare? Should we continue to to pursue incorporating lag effects in our analysis of this data?\n",
        "\n",
        "```\n",
        "fitting_returns_data(\n",
        "    'ff6_factors_19630701_20230131.csv',\n",
        "    io_day_5_lag,\n",
        "    model_feed_forward);\n",
        " ```"
      ]
    },
    {
      "cell_type": "markdown",
      "id": "ab21634a",
      "metadata": {},
      "source": [
        "### Question 2 Solution"
      ]
    },
    {
      "cell_type": "code",
      "execution_count": 10,
      "id": "3ab4fd43",
      "metadata": {
        "colab": {
          "base_uri": "https://localhost:8080/"
        },
        "id": "3ab4fd43",
        "outputId": "2d275b24-ec34-40d9-c212-3df5e3dd9bd6",
        "scrolled": true
      },
      "outputs": [
        {
          "name": "stdout",
          "output_type": "stream",
          "text": [
            "Epoch 1/50\n",
            "\u001b[1m375/375\u001b[0m \u001b[32m━━━━━━━━━━━━━━━━━━━━\u001b[0m\u001b[37m\u001b[0m \u001b[1m1s\u001b[0m 774us/step - loss: 0.4917 - val_loss: 0.4522\n",
            "Epoch 2/50\n",
            "\u001b[1m375/375\u001b[0m \u001b[32m━━━━━━━━━━━━━━━━━━━━\u001b[0m\u001b[37m\u001b[0m \u001b[1m0s\u001b[0m 590us/step - loss: 0.4245 - val_loss: 0.4492\n",
            "Epoch 3/50\n",
            "\u001b[1m375/375\u001b[0m \u001b[32m━━━━━━━━━━━━━━━━━━━━\u001b[0m\u001b[37m\u001b[0m \u001b[1m0s\u001b[0m 589us/step - loss: 0.4195 - val_loss: 0.4482\n",
            "Epoch 4/50\n",
            "\u001b[1m375/375\u001b[0m \u001b[32m━━━━━━━━━━━━━━━━━━━━\u001b[0m\u001b[37m\u001b[0m \u001b[1m0s\u001b[0m 593us/step - loss: 0.4163 - val_loss: 0.4483\n",
            "Epoch 5/50\n",
            "\u001b[1m375/375\u001b[0m \u001b[32m━━━━━━━━━━━━━━━━━━━━\u001b[0m\u001b[37m\u001b[0m \u001b[1m0s\u001b[0m 575us/step - loss: 0.4129 - val_loss: 0.4478\n",
            "Epoch 6/50\n",
            "\u001b[1m375/375\u001b[0m \u001b[32m━━━━━━━━━━━━━━━━━━━━\u001b[0m\u001b[37m\u001b[0m \u001b[1m0s\u001b[0m 573us/step - loss: 0.4098 - val_loss: 0.4492\n",
            "Epoch 7/50\n",
            "\u001b[1m375/375\u001b[0m \u001b[32m━━━━━━━━━━━━━━━━━━━━\u001b[0m\u001b[37m\u001b[0m \u001b[1m0s\u001b[0m 582us/step - loss: 0.4060 - val_loss: 0.4501\n",
            "Epoch 8/50\n",
            "\u001b[1m375/375\u001b[0m \u001b[32m━━━━━━━━━━━━━━━━━━━━\u001b[0m\u001b[37m\u001b[0m \u001b[1m0s\u001b[0m 579us/step - loss: 0.4027 - val_loss: 0.4513\n",
            "Epoch 9/50\n",
            "\u001b[1m375/375\u001b[0m \u001b[32m━━━━━━━━━━━━━━━━━━━━\u001b[0m\u001b[37m\u001b[0m \u001b[1m0s\u001b[0m 580us/step - loss: 0.3999 - val_loss: 0.4530\n",
            "Epoch 10/50\n",
            "\u001b[1m375/375\u001b[0m \u001b[32m━━━━━━━━━━━━━━━━━━━━\u001b[0m\u001b[37m\u001b[0m \u001b[1m0s\u001b[0m 583us/step - loss: 0.3971 - val_loss: 0.4538\n",
            "Epoch 11/50\n",
            "\u001b[1m375/375\u001b[0m \u001b[32m━━━━━━━━━━━━━━━━━━━━\u001b[0m\u001b[37m\u001b[0m \u001b[1m0s\u001b[0m 577us/step - loss: 0.3942 - val_loss: 0.4551\n",
            "Epoch 12/50\n",
            "\u001b[1m375/375\u001b[0m \u001b[32m━━━━━━━━━━━━━━━━━━━━\u001b[0m\u001b[37m\u001b[0m \u001b[1m0s\u001b[0m 587us/step - loss: 0.3917 - val_loss: 0.4565\n",
            "Epoch 13/50\n",
            "\u001b[1m375/375\u001b[0m \u001b[32m━━━━━━━━━━━━━━━━━━━━\u001b[0m\u001b[37m\u001b[0m \u001b[1m0s\u001b[0m 580us/step - loss: 0.3892 - val_loss: 0.4588\n",
            "Epoch 14/50\n",
            "\u001b[1m375/375\u001b[0m \u001b[32m━━━━━━━━━━━━━━━━━━━━\u001b[0m\u001b[37m\u001b[0m \u001b[1m0s\u001b[0m 586us/step - loss: 0.3871 - val_loss: 0.4600\n",
            "Epoch 15/50\n",
            "\u001b[1m375/375\u001b[0m \u001b[32m━━━━━━━━━━━━━━━━━━━━\u001b[0m\u001b[37m\u001b[0m \u001b[1m0s\u001b[0m 579us/step - loss: 0.3850 - val_loss: 0.4609\n",
            "Epoch 16/50\n",
            "\u001b[1m375/375\u001b[0m \u001b[32m━━━━━━━━━━━━━━━━━━━━\u001b[0m\u001b[37m\u001b[0m \u001b[1m0s\u001b[0m 587us/step - loss: 0.3826 - val_loss: 0.4627\n",
            "Epoch 17/50\n",
            "\u001b[1m375/375\u001b[0m \u001b[32m━━━━━━━━━━━━━━━━━━━━\u001b[0m\u001b[37m\u001b[0m \u001b[1m0s\u001b[0m 582us/step - loss: 0.3808 - val_loss: 0.4646\n",
            "Epoch 18/50\n",
            "\u001b[1m375/375\u001b[0m \u001b[32m━━━━━━━━━━━━━━━━━━━━\u001b[0m\u001b[37m\u001b[0m \u001b[1m0s\u001b[0m 582us/step - loss: 0.3792 - val_loss: 0.4652\n",
            "Epoch 19/50\n",
            "\u001b[1m375/375\u001b[0m \u001b[32m━━━━━━━━━━━━━━━━━━━━\u001b[0m\u001b[37m\u001b[0m \u001b[1m0s\u001b[0m 582us/step - loss: 0.3778 - val_loss: 0.4669\n",
            "Epoch 20/50\n",
            "\u001b[1m375/375\u001b[0m \u001b[32m━━━━━━━━━━━━━━━━━━━━\u001b[0m\u001b[37m\u001b[0m \u001b[1m0s\u001b[0m 609us/step - loss: 0.3761 - val_loss: 0.4677\n",
            "Epoch 21/50\n",
            "\u001b[1m375/375\u001b[0m \u001b[32m━━━━━━━━━━━━━━━━━━━━\u001b[0m\u001b[37m\u001b[0m \u001b[1m0s\u001b[0m 604us/step - loss: 0.3744 - val_loss: 0.4690\n",
            "Epoch 22/50\n",
            "\u001b[1m375/375\u001b[0m \u001b[32m━━━━━━━━━━━━━━━━━━━━\u001b[0m\u001b[37m\u001b[0m \u001b[1m0s\u001b[0m 584us/step - loss: 0.3726 - val_loss: 0.4716\n",
            "Epoch 23/50\n",
            "\u001b[1m375/375\u001b[0m \u001b[32m━━━━━━━━━━━━━━━━━━━━\u001b[0m\u001b[37m\u001b[0m \u001b[1m0s\u001b[0m 577us/step - loss: 0.3717 - val_loss: 0.4700\n",
            "Epoch 24/50\n",
            "\u001b[1m375/375\u001b[0m \u001b[32m━━━━━━━━━━━━━━━━━━━━\u001b[0m\u001b[37m\u001b[0m \u001b[1m0s\u001b[0m 632us/step - loss: 0.3698 - val_loss: 0.4744\n",
            "Epoch 25/50\n",
            "\u001b[1m375/375\u001b[0m \u001b[32m━━━━━━━━━━━━━━━━━━━━\u001b[0m\u001b[37m\u001b[0m \u001b[1m0s\u001b[0m 599us/step - loss: 0.3686 - val_loss: 0.4748\n",
            "Epoch 26/50\n",
            "\u001b[1m375/375\u001b[0m \u001b[32m━━━━━━━━━━━━━━━━━━━━\u001b[0m\u001b[37m\u001b[0m \u001b[1m0s\u001b[0m 574us/step - loss: 0.3676 - val_loss: 0.4768\n",
            "Epoch 27/50\n",
            "\u001b[1m375/375\u001b[0m \u001b[32m━━━━━━━━━━━━━━━━━━━━\u001b[0m\u001b[37m\u001b[0m \u001b[1m0s\u001b[0m 577us/step - loss: 0.3664 - val_loss: 0.4767\n",
            "Epoch 28/50\n",
            "\u001b[1m375/375\u001b[0m \u001b[32m━━━━━━━━━━━━━━━━━━━━\u001b[0m\u001b[37m\u001b[0m \u001b[1m0s\u001b[0m 584us/step - loss: 0.3653 - val_loss: 0.4781\n",
            "Epoch 29/50\n",
            "\u001b[1m375/375\u001b[0m \u001b[32m━━━━━━━━━━━━━━━━━━━━\u001b[0m\u001b[37m\u001b[0m \u001b[1m0s\u001b[0m 587us/step - loss: 0.3640 - val_loss: 0.4780\n",
            "Epoch 30/50\n",
            "\u001b[1m375/375\u001b[0m \u001b[32m━━━━━━━━━━━━━━━━━━━━\u001b[0m\u001b[37m\u001b[0m \u001b[1m0s\u001b[0m 581us/step - loss: 0.3625 - val_loss: 0.4807\n",
            "Epoch 31/50\n",
            "\u001b[1m375/375\u001b[0m \u001b[32m━━━━━━━━━━━━━━━━━━━━\u001b[0m\u001b[37m\u001b[0m \u001b[1m0s\u001b[0m 587us/step - loss: 0.3614 - val_loss: 0.4804\n",
            "Epoch 32/50\n",
            "\u001b[1m375/375\u001b[0m \u001b[32m━━━━━━━━━━━━━━━━━━━━\u001b[0m\u001b[37m\u001b[0m \u001b[1m0s\u001b[0m 583us/step - loss: 0.3600 - val_loss: 0.4824\n",
            "Epoch 33/50\n",
            "\u001b[1m375/375\u001b[0m \u001b[32m━━━━━━━━━━━━━━━━━━━━\u001b[0m\u001b[37m\u001b[0m \u001b[1m0s\u001b[0m 583us/step - loss: 0.3593 - val_loss: 0.4828\n",
            "Epoch 34/50\n",
            "\u001b[1m375/375\u001b[0m \u001b[32m━━━━━━━━━━━━━━━━━━━━\u001b[0m\u001b[37m\u001b[0m \u001b[1m0s\u001b[0m 684us/step - loss: 0.3573 - val_loss: 0.4851\n",
            "Epoch 35/50\n",
            "\u001b[1m375/375\u001b[0m \u001b[32m━━━━━━━━━━━━━━━━━━━━\u001b[0m\u001b[37m\u001b[0m \u001b[1m0s\u001b[0m 584us/step - loss: 0.3566 - val_loss: 0.4843\n",
            "Epoch 36/50\n",
            "\u001b[1m375/375\u001b[0m \u001b[32m━━━━━━━━━━━━━━━━━━━━\u001b[0m\u001b[37m\u001b[0m \u001b[1m0s\u001b[0m 574us/step - loss: 0.3553 - val_loss: 0.4855\n",
            "Epoch 37/50\n",
            "\u001b[1m375/375\u001b[0m \u001b[32m━━━━━━━━━━━━━━━━━━━━\u001b[0m\u001b[37m\u001b[0m \u001b[1m0s\u001b[0m 585us/step - loss: 0.3545 - val_loss: 0.4870\n",
            "Epoch 38/50\n",
            "\u001b[1m375/375\u001b[0m \u001b[32m━━━━━━━━━━━━━━━━━━━━\u001b[0m\u001b[37m\u001b[0m \u001b[1m0s\u001b[0m 576us/step - loss: 0.3538 - val_loss: 0.4863\n",
            "Epoch 39/50\n",
            "\u001b[1m375/375\u001b[0m \u001b[32m━━━━━━━━━━━━━━━━━━━━\u001b[0m\u001b[37m\u001b[0m \u001b[1m0s\u001b[0m 588us/step - loss: 0.3523 - val_loss: 0.4867\n",
            "Epoch 40/50\n",
            "\u001b[1m375/375\u001b[0m \u001b[32m━━━━━━━━━━━━━━━━━━━━\u001b[0m\u001b[37m\u001b[0m \u001b[1m0s\u001b[0m 579us/step - loss: 0.3510 - val_loss: 0.4868\n",
            "Epoch 41/50\n",
            "\u001b[1m375/375\u001b[0m \u001b[32m━━━━━━━━━━━━━━━━━━━━\u001b[0m\u001b[37m\u001b[0m \u001b[1m0s\u001b[0m 582us/step - loss: 0.3507 - val_loss: 0.4876\n",
            "Epoch 42/50\n",
            "\u001b[1m375/375\u001b[0m \u001b[32m━━━━━━━━━━━━━━━━━━━━\u001b[0m\u001b[37m\u001b[0m \u001b[1m0s\u001b[0m 584us/step - loss: 0.3488 - val_loss: 0.4901\n",
            "Epoch 43/50\n",
            "\u001b[1m375/375\u001b[0m \u001b[32m━━━━━━━━━━━━━━━━━━━━\u001b[0m\u001b[37m\u001b[0m \u001b[1m0s\u001b[0m 582us/step - loss: 0.3480 - val_loss: 0.4888\n",
            "Epoch 44/50\n",
            "\u001b[1m375/375\u001b[0m \u001b[32m━━━━━━━━━━━━━━━━━━━━\u001b[0m\u001b[37m\u001b[0m \u001b[1m0s\u001b[0m 579us/step - loss: 0.3474 - val_loss: 0.4903\n",
            "Epoch 45/50\n",
            "\u001b[1m375/375\u001b[0m \u001b[32m━━━━━━━━━━━━━━━━━━━━\u001b[0m\u001b[37m\u001b[0m \u001b[1m0s\u001b[0m 579us/step - loss: 0.3471 - val_loss: 0.4919\n",
            "Epoch 46/50\n",
            "\u001b[1m375/375\u001b[0m \u001b[32m━━━━━━━━━━━━━━━━━━━━\u001b[0m\u001b[37m\u001b[0m \u001b[1m0s\u001b[0m 578us/step - loss: 0.3456 - val_loss: 0.4917\n",
            "Epoch 47/50\n",
            "\u001b[1m375/375\u001b[0m \u001b[32m━━━━━━━━━━━━━━━━━━━━\u001b[0m\u001b[37m\u001b[0m \u001b[1m0s\u001b[0m 575us/step - loss: 0.3450 - val_loss: 0.4902\n",
            "Epoch 48/50\n",
            "\u001b[1m375/375\u001b[0m \u001b[32m━━━━━━━━━━━━━━━━━━━━\u001b[0m\u001b[37m\u001b[0m \u001b[1m0s\u001b[0m 596us/step - loss: 0.3444 - val_loss: 0.4933\n",
            "Epoch 49/50\n",
            "\u001b[1m375/375\u001b[0m \u001b[32m━━━━━━━━━━━━━━━━━━━━\u001b[0m\u001b[37m\u001b[0m \u001b[1m0s\u001b[0m 569us/step - loss: 0.3438 - val_loss: 0.4915\n",
            "Epoch 50/50\n",
            "\u001b[1m375/375\u001b[0m \u001b[32m━━━━━━━━━━━━━━━━━━━━\u001b[0m\u001b[37m\u001b[0m \u001b[1m0s\u001b[0m 572us/step - loss: 0.3433 - val_loss: 0.4942\n",
            "\u001b[1m469/469\u001b[0m \u001b[32m━━━━━━━━━━━━━━━━━━━━\u001b[0m\u001b[37m\u001b[0m \u001b[1m0s\u001b[0m 270us/step\n",
            "                            OLS Regression Results                            \n",
            "==============================================================================\n",
            "Dep. Variable:                      y   R-squared:                       0.289\n",
            "Model:                            OLS   Adj. R-squared:                  0.289\n",
            "Method:                 Least Squares   F-statistic:                     1016.\n",
            "Date:                Sun, 18 May 2025   Prob (F-statistic):               0.00\n",
            "Time:                        21:51:28   Log-Likelihood:                -16390.\n",
            "No. Observations:               14994   AIC:                         3.279e+04\n",
            "Df Residuals:                   14987   BIC:                         3.285e+04\n",
            "Df Model:                           6                                         \n",
            "Covariance Type:            nonrobust                                         \n",
            "==============================================================================\n",
            "                 coef    std err          t      P>|t|      [0.025      0.975]\n",
            "------------------------------------------------------------------------------\n",
            "const          0.1461      0.006     24.692      0.000       0.135       0.158\n",
            "Mkt-RF         0.4679      0.006     73.794      0.000       0.455       0.480\n",
            "SMB           -0.0280      0.012     -2.427      0.015      -0.051      -0.005\n",
            "HML            0.1746      0.013     13.136      0.000       0.149       0.201\n",
            "RMW            0.1129      0.016      7.101      0.000       0.082       0.144\n",
            "CMA            0.0568      0.020      2.781      0.005       0.017       0.097\n",
            "MOM            0.1896      0.008     22.938      0.000       0.173       0.206\n",
            "==============================================================================\n",
            "Omnibus:                     6359.092   Durbin-Watson:                   1.739\n",
            "Prob(Omnibus):                  0.000   Jarque-Bera (JB):           119771.381\n",
            "Skew:                           1.566   Prob(JB):                         0.00\n",
            "Kurtosis:                      16.487   Cond. No.                         4.01\n",
            "==============================================================================\n",
            "\n",
            "Notes:\n",
            "[1] Standard Errors assume that the covariance matrix of the errors is correctly specified.\n"
          ]
        }
      ],
      "source": [
        "# Define function for calculating five-day lags based on io_day_1_lag\n",
        "def io_day_5_lag(data):\n",
        "    # data: DataFrame of 6 factors\n",
        "    cols = data.columns\n",
        "    # build a list of shifted DataFrames\n",
        "    lagged = []\n",
        "    for i in range(1, 6):\n",
        "        df_i = data.shift(i)\n",
        "        df_i.columns = [f\"{col}_lag{i}\" for col in cols]\n",
        "        lagged.append(df_i)\n",
        "    # concatenate, drop the first 5 NaN rows, reset index\n",
        "    X = pd.concat(lagged, axis=1).dropna().reset_index(drop=True)\n",
        "    # target y is the original data aligned to start at row 5\n",
        "    y = data.iloc[5:].reset_index(drop=True)\n",
        "    return X, y\n",
        "\n",
        "# Calculate returns and alphas using the feed forward neural net with\n",
        "# five day lagged input variables.\n",
        "fitting_returns_data(\n",
        "    'ff6_factors_19630701_20230131.csv',\n",
        "    io_day_5_lag,\n",
        "    model_feed_forward,\n",
        "    SEED\n",
        ");"
      ]
    },
    {
      "cell_type": "markdown",
      "id": "3b948d13",
      "metadata": {},
      "source": [
        "TODO: compare results to the original ReLU model from Question 0. How do the results compare? Should we continue to to pursue incorporating lag effects in our analysis of this data?\n",
        "\n",
        "The OLS model with lagged factors achieves an R² of 0.289 and a statistically significant alpha of 0.146, both notably higher than earlier linear models. This narrows the performance gap with the original ReLU model from Question 0, which benefits from nonlinear flexibility. The improvement suggests lagged factor effects carry meaningful predictive power. We should continue incorporating lag effects, as they enhance performance even in interpretable linear models.\n",
        "\n"
      ]
    },
    {
      "cell_type": "markdown",
      "id": "503f303f",
      "metadata": {},
      "source": [
        "# Question 3 - Investigating Potentials for P-Hacking"
      ]
    },
    {
      "cell_type": "markdown",
      "id": "ad530f9f",
      "metadata": {},
      "source": [
        "## 3 [25 points] Randomness in Alphas"
      ]
    },
    {
      "cell_type": "markdown",
      "id": "3c84cfba",
      "metadata": {
        "id": "3c84cfba"
      },
      "source": [
        "Neural  nets are fit via a Stochastic Gradient Descent. This implies that there is inherent randomness in any fit of the model. One good way to account for this noise in your model is to refit the model multiple times and observe the distribution. It's more accurate to report the median or mean of these estimates, although it can be hard to tell if a paper/report has cherry-picked the best result in this way.\n",
        "\n",
        "Using the `io_day_1_lag`, and `model_feed_forward` settings, rerun the model 100 times and get a distribution for the alpha given. (You can use the `seed` parameter in the `fitting_returns_data` function if you want to be able to reproduce a given high return.)\n",
        "\n",
        "Set `print_summary = False` in `fitting_returns_data` in order to avoid large amounts of output.\n",
        "\n",
        "What's the highest return you could get if you were to ignore the importance of the robustness of a model result? What would be a downside of reporting a result like this?\n",
        "\n",
        "Note: running the model 100 times may take awhile (over an hour on Google Colab). Debug your code before attempting the 100 cycles."
      ]
    },
    {
      "cell_type": "markdown",
      "id": "b6756972",
      "metadata": {},
      "source": [
        "### Question 3 Solution"
      ]
    },
    {
      "cell_type": "code",
      "execution_count": 13,
      "id": "7000f3c5",
      "metadata": {
        "colab": {
          "base_uri": "https://localhost:8080/",
          "height": 1000
        },
        "id": "7000f3c5",
        "outputId": "bebcb45e-cae7-4f8a-f7c4-b1d4072f1d2b"
      },
      "outputs": [
        {
          "name": "stdout",
          "output_type": "stream",
          "text": [
            "Epoch 1/50\n",
            "\u001b[1m375/375\u001b[0m \u001b[32m━━━━━━━━━━━━━━━━━━━━\u001b[0m\u001b[37m\u001b[0m \u001b[1m1s\u001b[0m 818us/step - loss: 0.4310 - val_loss: 0.4154\n",
            "Epoch 2/50\n",
            "\u001b[1m375/375\u001b[0m \u001b[32m━━━━━━━━━━━━━━━━━━━━\u001b[0m\u001b[37m\u001b[0m \u001b[1m0s\u001b[0m 618us/step - loss: 0.4195 - val_loss: 0.4144\n",
            "Epoch 3/50\n",
            "\u001b[1m375/375\u001b[0m \u001b[32m━━━━━━━━━━━━━━━━━━━━\u001b[0m\u001b[37m\u001b[0m \u001b[1m0s\u001b[0m 627us/step - loss: 0.4168 - val_loss: 0.4144\n",
            "Epoch 4/50\n",
            "\u001b[1m375/375\u001b[0m \u001b[32m━━━━━━━━━━━━━━━━━━━━\u001b[0m\u001b[37m\u001b[0m \u001b[1m0s\u001b[0m 655us/step - loss: 0.4154 - val_loss: 0.4143\n",
            "Epoch 5/50\n",
            "\u001b[1m375/375\u001b[0m \u001b[32m━━━━━━━━━━━━━━━━━━━━\u001b[0m\u001b[37m\u001b[0m \u001b[1m0s\u001b[0m 643us/step - loss: 0.4144 - val_loss: 0.4141\n",
            "Epoch 6/50\n",
            "\u001b[1m375/375\u001b[0m \u001b[32m━━━━━━━━━━━━━━━━━━━━\u001b[0m\u001b[37m\u001b[0m \u001b[1m0s\u001b[0m 625us/step - loss: 0.4137 - val_loss: 0.4140\n",
            "Epoch 7/50\n",
            "\u001b[1m375/375\u001b[0m \u001b[32m━━━━━━━━━━━━━━━━━━━━\u001b[0m\u001b[37m\u001b[0m \u001b[1m0s\u001b[0m 628us/step - loss: 0.4130 - val_loss: 0.4138\n",
            "Epoch 8/50\n",
            "\u001b[1m375/375\u001b[0m \u001b[32m━━━━━━━━━━━━━━━━━━━━\u001b[0m\u001b[37m\u001b[0m \u001b[1m0s\u001b[0m 625us/step - loss: 0.4126 - val_loss: 0.4138\n",
            "Epoch 9/50\n",
            "\u001b[1m375/375\u001b[0m \u001b[32m━━━━━━━━━━━━━━━━━━━━\u001b[0m\u001b[37m\u001b[0m \u001b[1m0s\u001b[0m 783us/step - loss: 0.4121 - val_loss: 0.4139\n",
            "Epoch 10/50\n",
            "\u001b[1m375/375\u001b[0m \u001b[32m━━━━━━━━━━━━━━━━━━━━\u001b[0m\u001b[37m\u001b[0m \u001b[1m0s\u001b[0m 634us/step - loss: 0.4116 - val_loss: 0.4139\n",
            "Epoch 11/50\n",
            "\u001b[1m375/375\u001b[0m \u001b[32m━━━━━━━━━━━━━━━━━━━━\u001b[0m\u001b[37m\u001b[0m \u001b[1m0s\u001b[0m 625us/step - loss: 0.4111 - val_loss: 0.4139\n",
            "Epoch 12/50\n",
            "\u001b[1m375/375\u001b[0m \u001b[32m━━━━━━━━━━━━━━━━━━━━\u001b[0m\u001b[37m\u001b[0m \u001b[1m0s\u001b[0m 624us/step - loss: 0.4105 - val_loss: 0.4142\n",
            "Epoch 13/50\n",
            "\u001b[1m  1/375\u001b[0m \u001b[37m━━━━━━━━━━━━━━━━━━━━\u001b[0m \u001b[1m4s\u001b[0m 11ms/step - loss: 0.1927"
          ]
        },
        {
          "ename": "KeyboardInterrupt",
          "evalue": "",
          "output_type": "error",
          "traceback": [
            "\u001b[31m---------------------------------------------------------------------------\u001b[39m",
            "\u001b[31mKeyboardInterrupt\u001b[39m                         Traceback (most recent call last)",
            "\u001b[36mCell\u001b[39m\u001b[36m \u001b[39m\u001b[32mIn[13]\u001b[39m\u001b[32m, line 6\u001b[39m\n\u001b[32m      3\u001b[39m alphas = []\n\u001b[32m      4\u001b[39m \u001b[38;5;28;01mfor\u001b[39;00m i \u001b[38;5;129;01min\u001b[39;00m \u001b[38;5;28mrange\u001b[39m(N):\n\u001b[32m      5\u001b[39m     \u001b[38;5;66;03m# fit the net with a new seed, silence the OLS summary\u001b[39;00m\n\u001b[32m----> \u001b[39m\u001b[32m6\u001b[39m     _, _, ols = \u001b[43mfitting_returns_data\u001b[49m\u001b[43m(\u001b[49m\n\u001b[32m      7\u001b[39m \u001b[43m        \u001b[49m\u001b[33;43m'\u001b[39;49m\u001b[33;43mff6_factors_19630701_20230131.csv\u001b[39;49m\u001b[33;43m'\u001b[39;49m\u001b[43m,\u001b[49m\n\u001b[32m      8\u001b[39m \u001b[43m        \u001b[49m\u001b[43mio_day_1_lag\u001b[49m\u001b[43m,\u001b[49m\n\u001b[32m      9\u001b[39m \u001b[43m        \u001b[49m\u001b[43mmodel_feed_forward\u001b[49m\u001b[43m,\u001b[49m\n\u001b[32m     10\u001b[39m \u001b[43m        \u001b[49m\u001b[43mseed\u001b[49m\u001b[43m=\u001b[49m\u001b[43mi\u001b[49m\u001b[43m,\u001b[49m\n\u001b[32m     11\u001b[39m \u001b[43m        \u001b[49m\u001b[43mprint_summary\u001b[49m\u001b[43m=\u001b[49m\u001b[38;5;28;43;01mFalse\u001b[39;49;00m\n\u001b[32m     12\u001b[39m \u001b[43m    \u001b[49m\u001b[43m)\u001b[49m\n\u001b[32m     13\u001b[39m     alphas.append(ols.params[\u001b[33m'\u001b[39m\u001b[33mconst\u001b[39m\u001b[33m'\u001b[39m])\n\u001b[32m     15\u001b[39m alphas = np.array(alphas)\n",
            "\u001b[36mCell\u001b[39m\u001b[36m \u001b[39m\u001b[32mIn[3]\u001b[39m\u001b[32m, line 47\u001b[39m, in \u001b[36mfitting_returns_data\u001b[39m\u001b[34m(data_path, io_fn, model_fn, seed, print_summary)\u001b[39m\n\u001b[32m     44\u001b[39m X_train, X_val, y_train, y_val = train_test_split(X, y, test_size=\u001b[32m0.2\u001b[39m)\n\u001b[32m     46\u001b[39m \u001b[38;5;66;03m# Fit the model\u001b[39;00m\n\u001b[32m---> \u001b[39m\u001b[32m47\u001b[39m strat_df, return_vector = \u001b[43mmodel_fn\u001b[49m\u001b[43m(\u001b[49m\u001b[43mX\u001b[49m\u001b[43m,\u001b[49m\u001b[43m \u001b[49m\u001b[43my\u001b[49m\u001b[43m,\u001b[49m\u001b[43m \u001b[49m\u001b[43mX_train\u001b[49m\u001b[43m,\u001b[49m\u001b[43m \u001b[49m\u001b[43my_train\u001b[49m\u001b[43m,\u001b[49m\u001b[43m \u001b[49m\u001b[43mX_val\u001b[49m\u001b[43m,\u001b[49m\u001b[43m \u001b[49m\u001b[43my_val\u001b[49m\u001b[43m)\u001b[49m\n\u001b[32m     49\u001b[39m \u001b[38;5;66;03m# Calculate alpha\u001b[39;00m\n\u001b[32m     50\u001b[39m y_ols = sm.add_constant(y)\n",
            "\u001b[36mCell\u001b[39m\u001b[36m \u001b[39m\u001b[32mIn[3]\u001b[39m\u001b[32m, line 103\u001b[39m, in \u001b[36mmodel_feed_forward\u001b[39m\u001b[34m(X, y, X_train, y_train, X_val, y_val)\u001b[39m\n\u001b[32m     99\u001b[39m model.compile(loss=\u001b[33m'\u001b[39m\u001b[33mmean_squared_error\u001b[39m\u001b[33m'\u001b[39m, optimizer=\u001b[33m'\u001b[39m\u001b[33madam\u001b[39m\u001b[33m'\u001b[39m)\n\u001b[32m    101\u001b[39m \u001b[38;5;66;03m# Train the model, verbose = 0 means reports aren't printed\u001b[39;00m\n\u001b[32m    102\u001b[39m \u001b[38;5;66;03m# at the end of each epoch\u001b[39;00m\n\u001b[32m--> \u001b[39m\u001b[32m103\u001b[39m \u001b[43mmodel\u001b[49m\u001b[43m.\u001b[49m\u001b[43mfit\u001b[49m\u001b[43m(\u001b[49m\u001b[43mX_train\u001b[49m\u001b[43m,\u001b[49m\u001b[43m \u001b[49m\u001b[43my_train\u001b[49m\u001b[43m,\u001b[49m\u001b[43m \u001b[49m\u001b[43mbatch_size\u001b[49m\u001b[43m=\u001b[49m\u001b[32;43m32\u001b[39;49m\u001b[43m,\u001b[49m\u001b[43m \u001b[49m\u001b[43mepochs\u001b[49m\u001b[43m=\u001b[49m\u001b[32;43m50\u001b[39;49m\u001b[43m,\u001b[49m\n\u001b[32m    104\u001b[39m \u001b[43m          \u001b[49m\u001b[43mvalidation_data\u001b[49m\u001b[43m=\u001b[49m\u001b[43m(\u001b[49m\u001b[43mX_val\u001b[49m\u001b[43m,\u001b[49m\u001b[43m \u001b[49m\u001b[43my_val\u001b[49m\u001b[43m)\u001b[49m\u001b[43m)\u001b[49m\n\u001b[32m    106\u001b[39m \u001b[38;5;66;03m# Make predictions\u001b[39;00m\n\u001b[32m    107\u001b[39m predictions = model.predict(X)\n",
            "\u001b[36mFile \u001b[39m\u001b[32m~/Documents/pbj-bem114/.venv/lib/python3.11/site-packages/keras/src/utils/traceback_utils.py:117\u001b[39m, in \u001b[36mfilter_traceback.<locals>.error_handler\u001b[39m\u001b[34m(*args, **kwargs)\u001b[39m\n\u001b[32m    115\u001b[39m filtered_tb = \u001b[38;5;28;01mNone\u001b[39;00m\n\u001b[32m    116\u001b[39m \u001b[38;5;28;01mtry\u001b[39;00m:\n\u001b[32m--> \u001b[39m\u001b[32m117\u001b[39m     \u001b[38;5;28;01mreturn\u001b[39;00m \u001b[43mfn\u001b[49m\u001b[43m(\u001b[49m\u001b[43m*\u001b[49m\u001b[43margs\u001b[49m\u001b[43m,\u001b[49m\u001b[43m \u001b[49m\u001b[43m*\u001b[49m\u001b[43m*\u001b[49m\u001b[43mkwargs\u001b[49m\u001b[43m)\u001b[49m\n\u001b[32m    118\u001b[39m \u001b[38;5;28;01mexcept\u001b[39;00m \u001b[38;5;167;01mException\u001b[39;00m \u001b[38;5;28;01mas\u001b[39;00m e:\n\u001b[32m    119\u001b[39m     filtered_tb = _process_traceback_frames(e.__traceback__)\n",
            "\u001b[36mFile \u001b[39m\u001b[32m~/Documents/pbj-bem114/.venv/lib/python3.11/site-packages/keras/src/backend/tensorflow/trainer.py:371\u001b[39m, in \u001b[36mTensorFlowTrainer.fit\u001b[39m\u001b[34m(self, x, y, batch_size, epochs, verbose, callbacks, validation_split, validation_data, shuffle, class_weight, sample_weight, initial_epoch, steps_per_epoch, validation_steps, validation_batch_size, validation_freq)\u001b[39m\n\u001b[32m    369\u001b[39m \u001b[38;5;28;01mfor\u001b[39;00m step, iterator \u001b[38;5;129;01min\u001b[39;00m epoch_iterator:\n\u001b[32m    370\u001b[39m     callbacks.on_train_batch_begin(step)\n\u001b[32m--> \u001b[39m\u001b[32m371\u001b[39m     logs = \u001b[38;5;28;43mself\u001b[39;49m\u001b[43m.\u001b[49m\u001b[43mtrain_function\u001b[49m\u001b[43m(\u001b[49m\u001b[43miterator\u001b[49m\u001b[43m)\u001b[49m\n\u001b[32m    372\u001b[39m     callbacks.on_train_batch_end(step, logs)\n\u001b[32m    373\u001b[39m     \u001b[38;5;28;01mif\u001b[39;00m \u001b[38;5;28mself\u001b[39m.stop_training:\n",
            "\u001b[36mFile \u001b[39m\u001b[32m~/Documents/pbj-bem114/.venv/lib/python3.11/site-packages/keras/src/backend/tensorflow/trainer.py:220\u001b[39m, in \u001b[36mTensorFlowTrainer._make_function.<locals>.function\u001b[39m\u001b[34m(iterator)\u001b[39m\n\u001b[32m    216\u001b[39m \u001b[38;5;28;01mif\u001b[39;00m \u001b[38;5;28misinstance\u001b[39m(\n\u001b[32m    217\u001b[39m     iterator, (tf.data.Iterator, tf.distribute.DistributedIterator)\n\u001b[32m    218\u001b[39m ):\n\u001b[32m    219\u001b[39m     opt_outputs = multi_step_on_iterator(iterator)\n\u001b[32m--> \u001b[39m\u001b[32m220\u001b[39m     \u001b[38;5;28;01mif\u001b[39;00m \u001b[38;5;129;01mnot\u001b[39;00m \u001b[43mopt_outputs\u001b[49m\u001b[43m.\u001b[49m\u001b[43mhas_value\u001b[49m\u001b[43m(\u001b[49m\u001b[43m)\u001b[49m:\n\u001b[32m    221\u001b[39m         \u001b[38;5;28;01mraise\u001b[39;00m \u001b[38;5;167;01mStopIteration\u001b[39;00m\n\u001b[32m    222\u001b[39m     \u001b[38;5;28;01mreturn\u001b[39;00m opt_outputs.get_value()\n",
            "\u001b[36mFile \u001b[39m\u001b[32m~/Documents/pbj-bem114/.venv/lib/python3.11/site-packages/tensorflow/python/data/ops/optional_ops.py:175\u001b[39m, in \u001b[36m_OptionalImpl.has_value\u001b[39m\u001b[34m(self, name)\u001b[39m\n\u001b[32m    174\u001b[39m \u001b[38;5;28;01mdef\u001b[39;00m\u001b[38;5;250m \u001b[39m\u001b[34mhas_value\u001b[39m(\u001b[38;5;28mself\u001b[39m, name=\u001b[38;5;28;01mNone\u001b[39;00m):\n\u001b[32m--> \u001b[39m\u001b[32m175\u001b[39m \u001b[43m  \u001b[49m\u001b[38;5;28;43;01mwith\u001b[39;49;00m\u001b[43m \u001b[49m\u001b[43mops\u001b[49m\u001b[43m.\u001b[49m\u001b[43mcolocate_with\u001b[49m\u001b[43m(\u001b[49m\u001b[38;5;28;43mself\u001b[39;49m\u001b[43m.\u001b[49m\u001b[43m_variant_tensor\u001b[49m\u001b[43m)\u001b[49m\u001b[43m:\u001b[49m\n\u001b[32m    176\u001b[39m \u001b[43m    \u001b[49m\u001b[38;5;28;43;01mreturn\u001b[39;49;00m\u001b[43m \u001b[49m\u001b[43mgen_optional_ops\u001b[49m\u001b[43m.\u001b[49m\u001b[43moptional_has_value\u001b[49m\u001b[43m(\u001b[49m\n\u001b[32m    177\u001b[39m \u001b[43m        \u001b[49m\u001b[38;5;28;43mself\u001b[39;49m\u001b[43m.\u001b[49m\u001b[43m_variant_tensor\u001b[49m\u001b[43m,\u001b[49m\u001b[43m \u001b[49m\u001b[43mname\u001b[49m\u001b[43m=\u001b[49m\u001b[43mname\u001b[49m\n\u001b[32m    178\u001b[39m \u001b[43m    \u001b[49m\u001b[43m)\u001b[49m\n",
            "\u001b[36mFile \u001b[39m\u001b[32m~/Documents/pbj-bem114/.venv/lib/python3.11/site-packages/tensorflow/python/eager/context.py:2483\u001b[39m, in \u001b[36m_EagerDeviceContext.__exit__\u001b[39m\u001b[34m(self, *ex_info)\u001b[39m\n\u001b[32m   2481\u001b[39m   \u001b[38;5;28;01mraise\u001b[39;00m \u001b[38;5;167;01mRuntimeError\u001b[39;00m(\u001b[33m\"\u001b[39m\u001b[33mExiting device scope without proper scope nesting\u001b[39m\u001b[33m\"\u001b[39m)\n\u001b[32m   2482\u001b[39m \u001b[38;5;28;01mdel\u001b[39;00m \u001b[38;5;28mself\u001b[39m._stack[-\u001b[32m1\u001b[39m]\n\u001b[32m-> \u001b[39m\u001b[32m2483\u001b[39m \u001b[43mctx\u001b[49m\u001b[43m.\u001b[49m\u001b[43m_set_device\u001b[49m\u001b[43m(\u001b[49m\u001b[43mold_device_name\u001b[49m\u001b[43m,\u001b[49m\u001b[43m \u001b[49m\u001b[43mold_device_spec\u001b[49m\u001b[43m)\u001b[49m\n",
            "\u001b[36mFile \u001b[39m\u001b[32m~/Documents/pbj-bem114/.venv/lib/python3.11/site-packages/tensorflow/python/eager/context.py:1202\u001b[39m, in \u001b[36mContext._set_device\u001b[39m\u001b[34m(self, device_name, device_spec)\u001b[39m\n\u001b[32m   1199\u001b[39m \u001b[38;5;250m  \u001b[39m\u001b[33;03m\"\"\"Returns the device spec for the current thread.\"\"\"\u001b[39;00m\n\u001b[32m   1200\u001b[39m   \u001b[38;5;28;01mreturn\u001b[39;00m \u001b[38;5;28mself\u001b[39m._thread_local_data.device_spec\n\u001b[32m-> \u001b[39m\u001b[32m1202\u001b[39m \u001b[38;5;28;01mdef\u001b[39;00m\u001b[38;5;250m \u001b[39m\u001b[34m_set_device\u001b[39m(\u001b[38;5;28mself\u001b[39m, device_name, device_spec):\n\u001b[32m   1203\u001b[39m   \u001b[38;5;28mself\u001b[39m._thread_local_data.device_name = device_name\n\u001b[32m   1204\u001b[39m   \u001b[38;5;28mself\u001b[39m._thread_local_data.device_spec = device_spec\n",
            "\u001b[31mKeyboardInterrupt\u001b[39m: "
          ]
        }
      ],
      "source": [
        "# Rerun model 100 times\n",
        "N = 100\n",
        "alphas = []\n",
        "for i in range(N):\n",
        "    # fit the net with a new seed, silence the OLS summary\n",
        "    _, _, ols = fitting_returns_data(\n",
        "        'ff6_factors_19630701_20230131.csv',\n",
        "        io_day_1_lag,\n",
        "        model_feed_forward,\n",
        "        seed=i,\n",
        "        print_summary=False\n",
        "    )\n",
        "    alphas.append(ols.params['const'])\n",
        "\n",
        "alphas = np.array(alphas)\n",
        "\n",
        "# Plot histogram\n",
        "plt.hist(alphas, bins=20)\n",
        "plt.title(\"Distribution of Alpha over 100 Model Fits\")\n",
        "plt.xlabel(\"Alpha\")\n",
        "plt.ylabel(\"Frequency\")\n",
        "plt.show()\n",
        "\n",
        "# Print summary statistics\n",
        "print(f\"Mean alpha:   {alphas.mean():.4f}\")\n",
        "print(f\"Median alpha: {np.median(alphas):.4f}\")\n",
        "print(f\"Max alpha:    {alphas.max():.4f}\")"
      ]
    },
    {
      "cell_type": "markdown",
      "id": "e167763d",
      "metadata": {},
      "source": [
        "TODO: What's the highest return you could get if you were to ignore the importance of the robustness of a model result? What would be a downside of reporting a result like this?"
      ]
    }
  ],
  "metadata": {
    "colab": {
      "provenance": []
    },
    "kernelspec": {
      "display_name": ".venv",
      "language": "python",
      "name": "python3"
    },
    "language_info": {
      "codemirror_mode": {
        "name": "ipython",
        "version": 3
      },
      "file_extension": ".py",
      "mimetype": "text/x-python",
      "name": "python",
      "nbconvert_exporter": "python",
      "pygments_lexer": "ipython3",
      "version": "3.11.3"
    }
  },
  "nbformat": 4,
  "nbformat_minor": 5
}
